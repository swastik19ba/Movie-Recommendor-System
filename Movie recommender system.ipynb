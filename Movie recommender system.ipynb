{
 "cells": [
  {
   "cell_type": "code",
   "execution_count": 4,
   "id": "3cb049f9-2e70-46bf-ae76-f4f744a3751a",
   "metadata": {},
   "outputs": [],
   "source": [
    "import numpy as np\n",
    "import pandas as pd"
   ]
  },
  {
   "cell_type": "code",
   "execution_count": 5,
   "id": "5a8c06df-d122-429a-836b-a6346c6663dd",
   "metadata": {},
   "outputs": [],
   "source": [
    "movies=pd.read_csv('tmdb_5000_movies.csv')\n",
    "credits=pd.read_csv('tmdb_5000_credits.csv')"
   ]
  },
  {
   "cell_type": "code",
   "execution_count": 6,
   "id": "3d2c1e47-414b-468f-8c93-25af0068f6e8",
   "metadata": {},
   "outputs": [
    {
     "name": "stdout",
     "output_type": "stream",
     "text": [
      "<class 'pandas.core.frame.DataFrame'>\n",
      "RangeIndex: 4803 entries, 0 to 4802\n",
      "Data columns (total 20 columns):\n",
      " #   Column                Non-Null Count  Dtype  \n",
      "---  ------                --------------  -----  \n",
      " 0   budget                4803 non-null   int64  \n",
      " 1   genres                4803 non-null   object \n",
      " 2   homepage              1712 non-null   object \n",
      " 3   id                    4803 non-null   int64  \n",
      " 4   keywords              4803 non-null   object \n",
      " 5   original_language     4803 non-null   object \n",
      " 6   original_title        4803 non-null   object \n",
      " 7   overview              4800 non-null   object \n",
      " 8   popularity            4803 non-null   float64\n",
      " 9   production_companies  4803 non-null   object \n",
      " 10  production_countries  4803 non-null   object \n",
      " 11  release_date          4802 non-null   object \n",
      " 12  revenue               4803 non-null   int64  \n",
      " 13  runtime               4801 non-null   float64\n",
      " 14  spoken_languages      4803 non-null   object \n",
      " 15  status                4803 non-null   object \n",
      " 16  tagline               3959 non-null   object \n",
      " 17  title                 4803 non-null   object \n",
      " 18  vote_average          4803 non-null   float64\n",
      " 19  vote_count            4803 non-null   int64  \n",
      "dtypes: float64(3), int64(4), object(13)\n",
      "memory usage: 750.6+ KB\n"
     ]
    }
   ],
   "source": [
    "movies.info()"
   ]
  },
  {
   "cell_type": "code",
   "execution_count": 7,
   "id": "113c8a74-1695-4494-bfad-207dae0d0871",
   "metadata": {},
   "outputs": [
    {
     "data": {
      "text/html": [
       "<div>\n",
       "<style scoped>\n",
       "    .dataframe tbody tr th:only-of-type {\n",
       "        vertical-align: middle;\n",
       "    }\n",
       "\n",
       "    .dataframe tbody tr th {\n",
       "        vertical-align: top;\n",
       "    }\n",
       "\n",
       "    .dataframe thead th {\n",
       "        text-align: right;\n",
       "    }\n",
       "</style>\n",
       "<table border=\"1\" class=\"dataframe\">\n",
       "  <thead>\n",
       "    <tr style=\"text-align: right;\">\n",
       "      <th></th>\n",
       "      <th>budget</th>\n",
       "      <th>genres</th>\n",
       "      <th>homepage</th>\n",
       "      <th>id</th>\n",
       "      <th>keywords</th>\n",
       "      <th>original_language</th>\n",
       "      <th>original_title</th>\n",
       "      <th>overview</th>\n",
       "      <th>popularity</th>\n",
       "      <th>production_companies</th>\n",
       "      <th>production_countries</th>\n",
       "      <th>release_date</th>\n",
       "      <th>revenue</th>\n",
       "      <th>runtime</th>\n",
       "      <th>spoken_languages</th>\n",
       "      <th>status</th>\n",
       "      <th>tagline</th>\n",
       "      <th>title</th>\n",
       "      <th>vote_average</th>\n",
       "      <th>vote_count</th>\n",
       "    </tr>\n",
       "  </thead>\n",
       "  <tbody>\n",
       "    <tr>\n",
       "      <th>0</th>\n",
       "      <td>237000000</td>\n",
       "      <td>[{\"id\": 28, \"name\": \"Action\"}, {\"id\": 12, \"nam...</td>\n",
       "      <td>http://www.avatarmovie.com/</td>\n",
       "      <td>19995</td>\n",
       "      <td>[{\"id\": 1463, \"name\": \"culture clash\"}, {\"id\":...</td>\n",
       "      <td>en</td>\n",
       "      <td>Avatar</td>\n",
       "      <td>In the 22nd century, a paraplegic Marine is di...</td>\n",
       "      <td>150.437577</td>\n",
       "      <td>[{\"name\": \"Ingenious Film Partners\", \"id\": 289...</td>\n",
       "      <td>[{\"iso_3166_1\": \"US\", \"name\": \"United States o...</td>\n",
       "      <td>2009-12-10</td>\n",
       "      <td>2787965087</td>\n",
       "      <td>162.0</td>\n",
       "      <td>[{\"iso_639_1\": \"en\", \"name\": \"English\"}, {\"iso...</td>\n",
       "      <td>Released</td>\n",
       "      <td>Enter the World of Pandora.</td>\n",
       "      <td>Avatar</td>\n",
       "      <td>7.2</td>\n",
       "      <td>11800</td>\n",
       "    </tr>\n",
       "  </tbody>\n",
       "</table>\n",
       "</div>"
      ],
      "text/plain": [
       "      budget                                             genres  \\\n",
       "0  237000000  [{\"id\": 28, \"name\": \"Action\"}, {\"id\": 12, \"nam...   \n",
       "\n",
       "                      homepage     id  \\\n",
       "0  http://www.avatarmovie.com/  19995   \n",
       "\n",
       "                                            keywords original_language  \\\n",
       "0  [{\"id\": 1463, \"name\": \"culture clash\"}, {\"id\":...                en   \n",
       "\n",
       "  original_title                                           overview  \\\n",
       "0         Avatar  In the 22nd century, a paraplegic Marine is di...   \n",
       "\n",
       "   popularity                               production_companies  \\\n",
       "0  150.437577  [{\"name\": \"Ingenious Film Partners\", \"id\": 289...   \n",
       "\n",
       "                                production_countries release_date     revenue  \\\n",
       "0  [{\"iso_3166_1\": \"US\", \"name\": \"United States o...   2009-12-10  2787965087   \n",
       "\n",
       "   runtime                                   spoken_languages    status  \\\n",
       "0    162.0  [{\"iso_639_1\": \"en\", \"name\": \"English\"}, {\"iso...  Released   \n",
       "\n",
       "                       tagline   title  vote_average  vote_count  \n",
       "0  Enter the World of Pandora.  Avatar           7.2       11800  "
      ]
     },
     "execution_count": 7,
     "metadata": {},
     "output_type": "execute_result"
    }
   ],
   "source": [
    " movies.head(1)"
   ]
  },
  {
   "cell_type": "code",
   "execution_count": 8,
   "id": "f38168fb-d425-4a45-9321-6a207d813e50",
   "metadata": {},
   "outputs": [
    {
     "data": {
      "text/html": [
       "<div>\n",
       "<style scoped>\n",
       "    .dataframe tbody tr th:only-of-type {\n",
       "        vertical-align: middle;\n",
       "    }\n",
       "\n",
       "    .dataframe tbody tr th {\n",
       "        vertical-align: top;\n",
       "    }\n",
       "\n",
       "    .dataframe thead th {\n",
       "        text-align: right;\n",
       "    }\n",
       "</style>\n",
       "<table border=\"1\" class=\"dataframe\">\n",
       "  <thead>\n",
       "    <tr style=\"text-align: right;\">\n",
       "      <th></th>\n",
       "      <th>movie_id</th>\n",
       "      <th>title</th>\n",
       "      <th>cast</th>\n",
       "      <th>crew</th>\n",
       "    </tr>\n",
       "  </thead>\n",
       "  <tbody>\n",
       "    <tr>\n",
       "      <th>0</th>\n",
       "      <td>19995</td>\n",
       "      <td>Avatar</td>\n",
       "      <td>[{\"cast_id\": 242, \"character\": \"Jake Sully\", \"...</td>\n",
       "      <td>[{\"credit_id\": \"52fe48009251416c750aca23\", \"de...</td>\n",
       "    </tr>\n",
       "  </tbody>\n",
       "</table>\n",
       "</div>"
      ],
      "text/plain": [
       "   movie_id   title                                               cast  \\\n",
       "0     19995  Avatar  [{\"cast_id\": 242, \"character\": \"Jake Sully\", \"...   \n",
       "\n",
       "                                                crew  \n",
       "0  [{\"credit_id\": \"52fe48009251416c750aca23\", \"de...  "
      ]
     },
     "execution_count": 8,
     "metadata": {},
     "output_type": "execute_result"
    }
   ],
   "source": [
    "credits.head(1)"
   ]
  },
  {
   "cell_type": "code",
   "execution_count": 9,
   "id": "27dfcb9f-ecab-44cd-afc1-2cbbfd44865e",
   "metadata": {},
   "outputs": [],
   "source": [
    "movies=movies.merge(credits,on='title')"
   ]
  },
  {
   "cell_type": "code",
   "execution_count": 10,
   "id": "64f5a788-6b18-443f-a852-8e0b27f2c439",
   "metadata": {},
   "outputs": [
    {
     "data": {
      "text/html": [
       "<div>\n",
       "<style scoped>\n",
       "    .dataframe tbody tr th:only-of-type {\n",
       "        vertical-align: middle;\n",
       "    }\n",
       "\n",
       "    .dataframe tbody tr th {\n",
       "        vertical-align: top;\n",
       "    }\n",
       "\n",
       "    .dataframe thead th {\n",
       "        text-align: right;\n",
       "    }\n",
       "</style>\n",
       "<table border=\"1\" class=\"dataframe\">\n",
       "  <thead>\n",
       "    <tr style=\"text-align: right;\">\n",
       "      <th></th>\n",
       "      <th>budget</th>\n",
       "      <th>genres</th>\n",
       "      <th>homepage</th>\n",
       "      <th>id</th>\n",
       "      <th>keywords</th>\n",
       "      <th>original_language</th>\n",
       "      <th>original_title</th>\n",
       "      <th>overview</th>\n",
       "      <th>popularity</th>\n",
       "      <th>production_companies</th>\n",
       "      <th>...</th>\n",
       "      <th>runtime</th>\n",
       "      <th>spoken_languages</th>\n",
       "      <th>status</th>\n",
       "      <th>tagline</th>\n",
       "      <th>title</th>\n",
       "      <th>vote_average</th>\n",
       "      <th>vote_count</th>\n",
       "      <th>movie_id</th>\n",
       "      <th>cast</th>\n",
       "      <th>crew</th>\n",
       "    </tr>\n",
       "  </thead>\n",
       "  <tbody>\n",
       "    <tr>\n",
       "      <th>0</th>\n",
       "      <td>237000000</td>\n",
       "      <td>[{\"id\": 28, \"name\": \"Action\"}, {\"id\": 12, \"nam...</td>\n",
       "      <td>http://www.avatarmovie.com/</td>\n",
       "      <td>19995</td>\n",
       "      <td>[{\"id\": 1463, \"name\": \"culture clash\"}, {\"id\":...</td>\n",
       "      <td>en</td>\n",
       "      <td>Avatar</td>\n",
       "      <td>In the 22nd century, a paraplegic Marine is di...</td>\n",
       "      <td>150.437577</td>\n",
       "      <td>[{\"name\": \"Ingenious Film Partners\", \"id\": 289...</td>\n",
       "      <td>...</td>\n",
       "      <td>162.0</td>\n",
       "      <td>[{\"iso_639_1\": \"en\", \"name\": \"English\"}, {\"iso...</td>\n",
       "      <td>Released</td>\n",
       "      <td>Enter the World of Pandora.</td>\n",
       "      <td>Avatar</td>\n",
       "      <td>7.2</td>\n",
       "      <td>11800</td>\n",
       "      <td>19995</td>\n",
       "      <td>[{\"cast_id\": 242, \"character\": \"Jake Sully\", \"...</td>\n",
       "      <td>[{\"credit_id\": \"52fe48009251416c750aca23\", \"de...</td>\n",
       "    </tr>\n",
       "  </tbody>\n",
       "</table>\n",
       "<p>1 rows × 23 columns</p>\n",
       "</div>"
      ],
      "text/plain": [
       "      budget                                             genres  \\\n",
       "0  237000000  [{\"id\": 28, \"name\": \"Action\"}, {\"id\": 12, \"nam...   \n",
       "\n",
       "                      homepage     id  \\\n",
       "0  http://www.avatarmovie.com/  19995   \n",
       "\n",
       "                                            keywords original_language  \\\n",
       "0  [{\"id\": 1463, \"name\": \"culture clash\"}, {\"id\":...                en   \n",
       "\n",
       "  original_title                                           overview  \\\n",
       "0         Avatar  In the 22nd century, a paraplegic Marine is di...   \n",
       "\n",
       "   popularity                               production_companies  ... runtime  \\\n",
       "0  150.437577  [{\"name\": \"Ingenious Film Partners\", \"id\": 289...  ...   162.0   \n",
       "\n",
       "                                    spoken_languages    status  \\\n",
       "0  [{\"iso_639_1\": \"en\", \"name\": \"English\"}, {\"iso...  Released   \n",
       "\n",
       "                       tagline   title vote_average vote_count movie_id  \\\n",
       "0  Enter the World of Pandora.  Avatar          7.2      11800    19995   \n",
       "\n",
       "                                                cast  \\\n",
       "0  [{\"cast_id\": 242, \"character\": \"Jake Sully\", \"...   \n",
       "\n",
       "                                                crew  \n",
       "0  [{\"credit_id\": \"52fe48009251416c750aca23\", \"de...  \n",
       "\n",
       "[1 rows x 23 columns]"
      ]
     },
     "execution_count": 10,
     "metadata": {},
     "output_type": "execute_result"
    }
   ],
   "source": [
    "movies.head(1)"
   ]
  },
  {
   "cell_type": "code",
   "execution_count": 11,
   "id": "956c2d00-d1c4-4f4d-8833-ba4c5cacd36b",
   "metadata": {},
   "outputs": [],
   "source": [
    "#geners\n",
    "#id\n",
    "#keywords\n",
    "#cast\n",
    "#crew\n"
   ]
  },
  {
   "cell_type": "code",
   "execution_count": 12,
   "id": "a0601069-ca96-4630-b5d7-d41994107291",
   "metadata": {},
   "outputs": [],
   "source": [
    "movies=movies[['genres','movie_id','keywords','cast','crew','overview','title']]"
   ]
  },
  {
   "cell_type": "code",
   "execution_count": 13,
   "id": "c584c401-40ea-449a-9649-6d511208a14e",
   "metadata": {},
   "outputs": [
    {
     "data": {
      "text/html": [
       "<div>\n",
       "<style scoped>\n",
       "    .dataframe tbody tr th:only-of-type {\n",
       "        vertical-align: middle;\n",
       "    }\n",
       "\n",
       "    .dataframe tbody tr th {\n",
       "        vertical-align: top;\n",
       "    }\n",
       "\n",
       "    .dataframe thead th {\n",
       "        text-align: right;\n",
       "    }\n",
       "</style>\n",
       "<table border=\"1\" class=\"dataframe\">\n",
       "  <thead>\n",
       "    <tr style=\"text-align: right;\">\n",
       "      <th></th>\n",
       "      <th>genres</th>\n",
       "      <th>movie_id</th>\n",
       "      <th>keywords</th>\n",
       "      <th>cast</th>\n",
       "      <th>crew</th>\n",
       "      <th>overview</th>\n",
       "      <th>title</th>\n",
       "    </tr>\n",
       "  </thead>\n",
       "  <tbody>\n",
       "    <tr>\n",
       "      <th>0</th>\n",
       "      <td>[{\"id\": 28, \"name\": \"Action\"}, {\"id\": 12, \"nam...</td>\n",
       "      <td>19995</td>\n",
       "      <td>[{\"id\": 1463, \"name\": \"culture clash\"}, {\"id\":...</td>\n",
       "      <td>[{\"cast_id\": 242, \"character\": \"Jake Sully\", \"...</td>\n",
       "      <td>[{\"credit_id\": \"52fe48009251416c750aca23\", \"de...</td>\n",
       "      <td>In the 22nd century, a paraplegic Marine is di...</td>\n",
       "      <td>Avatar</td>\n",
       "    </tr>\n",
       "    <tr>\n",
       "      <th>1</th>\n",
       "      <td>[{\"id\": 12, \"name\": \"Adventure\"}, {\"id\": 14, \"...</td>\n",
       "      <td>285</td>\n",
       "      <td>[{\"id\": 270, \"name\": \"ocean\"}, {\"id\": 726, \"na...</td>\n",
       "      <td>[{\"cast_id\": 4, \"character\": \"Captain Jack Spa...</td>\n",
       "      <td>[{\"credit_id\": \"52fe4232c3a36847f800b579\", \"de...</td>\n",
       "      <td>Captain Barbossa, long believed to be dead, ha...</td>\n",
       "      <td>Pirates of the Caribbean: At World's End</td>\n",
       "    </tr>\n",
       "    <tr>\n",
       "      <th>2</th>\n",
       "      <td>[{\"id\": 28, \"name\": \"Action\"}, {\"id\": 12, \"nam...</td>\n",
       "      <td>206647</td>\n",
       "      <td>[{\"id\": 470, \"name\": \"spy\"}, {\"id\": 818, \"name...</td>\n",
       "      <td>[{\"cast_id\": 1, \"character\": \"James Bond\", \"cr...</td>\n",
       "      <td>[{\"credit_id\": \"54805967c3a36829b5002c41\", \"de...</td>\n",
       "      <td>A cryptic message from Bond’s past sends him o...</td>\n",
       "      <td>Spectre</td>\n",
       "    </tr>\n",
       "    <tr>\n",
       "      <th>3</th>\n",
       "      <td>[{\"id\": 28, \"name\": \"Action\"}, {\"id\": 80, \"nam...</td>\n",
       "      <td>49026</td>\n",
       "      <td>[{\"id\": 849, \"name\": \"dc comics\"}, {\"id\": 853,...</td>\n",
       "      <td>[{\"cast_id\": 2, \"character\": \"Bruce Wayne / Ba...</td>\n",
       "      <td>[{\"credit_id\": \"52fe4781c3a36847f81398c3\", \"de...</td>\n",
       "      <td>Following the death of District Attorney Harve...</td>\n",
       "      <td>The Dark Knight Rises</td>\n",
       "    </tr>\n",
       "    <tr>\n",
       "      <th>4</th>\n",
       "      <td>[{\"id\": 28, \"name\": \"Action\"}, {\"id\": 12, \"nam...</td>\n",
       "      <td>49529</td>\n",
       "      <td>[{\"id\": 818, \"name\": \"based on novel\"}, {\"id\":...</td>\n",
       "      <td>[{\"cast_id\": 5, \"character\": \"John Carter\", \"c...</td>\n",
       "      <td>[{\"credit_id\": \"52fe479ac3a36847f813eaa3\", \"de...</td>\n",
       "      <td>John Carter is a war-weary, former military ca...</td>\n",
       "      <td>John Carter</td>\n",
       "    </tr>\n",
       "  </tbody>\n",
       "</table>\n",
       "</div>"
      ],
      "text/plain": [
       "                                              genres  movie_id  \\\n",
       "0  [{\"id\": 28, \"name\": \"Action\"}, {\"id\": 12, \"nam...     19995   \n",
       "1  [{\"id\": 12, \"name\": \"Adventure\"}, {\"id\": 14, \"...       285   \n",
       "2  [{\"id\": 28, \"name\": \"Action\"}, {\"id\": 12, \"nam...    206647   \n",
       "3  [{\"id\": 28, \"name\": \"Action\"}, {\"id\": 80, \"nam...     49026   \n",
       "4  [{\"id\": 28, \"name\": \"Action\"}, {\"id\": 12, \"nam...     49529   \n",
       "\n",
       "                                            keywords  \\\n",
       "0  [{\"id\": 1463, \"name\": \"culture clash\"}, {\"id\":...   \n",
       "1  [{\"id\": 270, \"name\": \"ocean\"}, {\"id\": 726, \"na...   \n",
       "2  [{\"id\": 470, \"name\": \"spy\"}, {\"id\": 818, \"name...   \n",
       "3  [{\"id\": 849, \"name\": \"dc comics\"}, {\"id\": 853,...   \n",
       "4  [{\"id\": 818, \"name\": \"based on novel\"}, {\"id\":...   \n",
       "\n",
       "                                                cast  \\\n",
       "0  [{\"cast_id\": 242, \"character\": \"Jake Sully\", \"...   \n",
       "1  [{\"cast_id\": 4, \"character\": \"Captain Jack Spa...   \n",
       "2  [{\"cast_id\": 1, \"character\": \"James Bond\", \"cr...   \n",
       "3  [{\"cast_id\": 2, \"character\": \"Bruce Wayne / Ba...   \n",
       "4  [{\"cast_id\": 5, \"character\": \"John Carter\", \"c...   \n",
       "\n",
       "                                                crew  \\\n",
       "0  [{\"credit_id\": \"52fe48009251416c750aca23\", \"de...   \n",
       "1  [{\"credit_id\": \"52fe4232c3a36847f800b579\", \"de...   \n",
       "2  [{\"credit_id\": \"54805967c3a36829b5002c41\", \"de...   \n",
       "3  [{\"credit_id\": \"52fe4781c3a36847f81398c3\", \"de...   \n",
       "4  [{\"credit_id\": \"52fe479ac3a36847f813eaa3\", \"de...   \n",
       "\n",
       "                                            overview  \\\n",
       "0  In the 22nd century, a paraplegic Marine is di...   \n",
       "1  Captain Barbossa, long believed to be dead, ha...   \n",
       "2  A cryptic message from Bond’s past sends him o...   \n",
       "3  Following the death of District Attorney Harve...   \n",
       "4  John Carter is a war-weary, former military ca...   \n",
       "\n",
       "                                      title  \n",
       "0                                    Avatar  \n",
       "1  Pirates of the Caribbean: At World's End  \n",
       "2                                   Spectre  \n",
       "3                     The Dark Knight Rises  \n",
       "4                               John Carter  "
      ]
     },
     "execution_count": 13,
     "metadata": {},
     "output_type": "execute_result"
    }
   ],
   "source": [
    "movies.head()"
   ]
  },
  {
   "cell_type": "code",
   "execution_count": 14,
   "id": "b6da676c-6ed0-4609-ac02-b771ab020bf0",
   "metadata": {},
   "outputs": [
    {
     "data": {
      "text/plain": [
       "genres      0\n",
       "movie_id    0\n",
       "keywords    0\n",
       "cast        0\n",
       "crew        0\n",
       "overview    3\n",
       "title       0\n",
       "dtype: int64"
      ]
     },
     "execution_count": 14,
     "metadata": {},
     "output_type": "execute_result"
    }
   ],
   "source": [
    "movies.isnull().sum()"
   ]
  },
  {
   "cell_type": "code",
   "execution_count": 15,
   "id": "2349e1c4-8304-4b0f-9ce5-5dc3ec17f6af",
   "metadata": {},
   "outputs": [],
   "source": [
    "movies.dropna(inplace=True)"
   ]
  },
  {
   "cell_type": "code",
   "execution_count": 16,
   "id": "6aacddb9-615c-4f53-be16-0c22953072f1",
   "metadata": {},
   "outputs": [
    {
     "data": {
      "text/plain": [
       "0"
      ]
     },
     "execution_count": 16,
     "metadata": {},
     "output_type": "execute_result"
    }
   ],
   "source": [
    "movies.duplicated().sum()"
   ]
  },
  {
   "cell_type": "code",
   "execution_count": 17,
   "id": "d2e69dd8-c634-448e-876b-3ae949ae2322",
   "metadata": {},
   "outputs": [
    {
     "data": {
      "text/plain": [
       "'[{\"id\": 28, \"name\": \"Action\"}, {\"id\": 12, \"name\": \"Adventure\"}, {\"id\": 14, \"name\": \"Fantasy\"}, {\"id\": 878, \"name\": \"Science Fiction\"}]'"
      ]
     },
     "execution_count": 17,
     "metadata": {},
     "output_type": "execute_result"
    }
   ],
   "source": [
    "movies.iloc[0].genres"
   ]
  },
  {
   "cell_type": "code",
   "execution_count": 18,
   "id": "4a627f01-0056-47ba-bb26-0517647936b5",
   "metadata": {},
   "outputs": [],
   "source": [
    "#'[{\"id\": 28, \"name\": \"Action\"}, {\"id\": 12, \"name\": \"Adventure\"}, {\"id\": 14, \"name\": \"Fantasy\"}, {\"id\": 878, \"name\": \"Science Fiction\"}]'\n",
    "#[Action,adventure,fantasy,scifi]"
   ]
  },
  {
   "cell_type": "code",
   "execution_count": 19,
   "id": "70dd1ce3",
   "metadata": {},
   "outputs": [
    {
     "data": {
      "text/plain": [
       "<function ast.literal_eval(node_or_string)>"
      ]
     },
     "execution_count": 19,
     "metadata": {},
     "output_type": "execute_result"
    }
   ],
   "source": [
    "import ast\n",
    "ast.literal_eval"
   ]
  },
  {
   "cell_type": "code",
   "execution_count": 20,
   "id": "677626d4-94c9-49fe-878d-10274eff11c4",
   "metadata": {},
   "outputs": [],
   "source": [
    " def convert(obj):\n",
    "     L=[]\n",
    "     for i in ast.literal_eval(obj):\n",
    "         L.append(i['name'])\n",
    "         return L"
   ]
  },
  {
   "cell_type": "code",
   "execution_count": 21,
   "id": "c6253f2e-031f-4903-8809-ad8abccff8e2",
   "metadata": {},
   "outputs": [
    {
     "data": {
      "text/plain": [
       "0            [Action]\n",
       "1         [Adventure]\n",
       "2            [Action]\n",
       "3            [Action]\n",
       "4            [Action]\n",
       "            ...      \n",
       "4804         [Action]\n",
       "4805         [Comedy]\n",
       "4806         [Comedy]\n",
       "4807             None\n",
       "4808    [Documentary]\n",
       "Name: genres, Length: 4806, dtype: object"
      ]
     },
     "execution_count": 21,
     "metadata": {},
     "output_type": "execute_result"
    }
   ],
   "source": [
    "movies['genres'].apply(convert)"
   ]
  },
  {
   "cell_type": "code",
   "execution_count": 22,
   "id": "4a95e2cb-595d-45d6-9aa4-687ae206e3d6",
   "metadata": {},
   "outputs": [
    {
     "data": {
      "text/html": [
       "<div>\n",
       "<style scoped>\n",
       "    .dataframe tbody tr th:only-of-type {\n",
       "        vertical-align: middle;\n",
       "    }\n",
       "\n",
       "    .dataframe tbody tr th {\n",
       "        vertical-align: top;\n",
       "    }\n",
       "\n",
       "    .dataframe thead th {\n",
       "        text-align: right;\n",
       "    }\n",
       "</style>\n",
       "<table border=\"1\" class=\"dataframe\">\n",
       "  <thead>\n",
       "    <tr style=\"text-align: right;\">\n",
       "      <th></th>\n",
       "      <th>genres</th>\n",
       "      <th>movie_id</th>\n",
       "      <th>keywords</th>\n",
       "      <th>cast</th>\n",
       "      <th>crew</th>\n",
       "      <th>overview</th>\n",
       "      <th>title</th>\n",
       "    </tr>\n",
       "  </thead>\n",
       "  <tbody>\n",
       "    <tr>\n",
       "      <th>0</th>\n",
       "      <td>[{\"id\": 28, \"name\": \"Action\"}, {\"id\": 12, \"nam...</td>\n",
       "      <td>19995</td>\n",
       "      <td>[{\"id\": 1463, \"name\": \"culture clash\"}, {\"id\":...</td>\n",
       "      <td>[{\"cast_id\": 242, \"character\": \"Jake Sully\", \"...</td>\n",
       "      <td>[{\"credit_id\": \"52fe48009251416c750aca23\", \"de...</td>\n",
       "      <td>In the 22nd century, a paraplegic Marine is di...</td>\n",
       "      <td>Avatar</td>\n",
       "    </tr>\n",
       "    <tr>\n",
       "      <th>1</th>\n",
       "      <td>[{\"id\": 12, \"name\": \"Adventure\"}, {\"id\": 14, \"...</td>\n",
       "      <td>285</td>\n",
       "      <td>[{\"id\": 270, \"name\": \"ocean\"}, {\"id\": 726, \"na...</td>\n",
       "      <td>[{\"cast_id\": 4, \"character\": \"Captain Jack Spa...</td>\n",
       "      <td>[{\"credit_id\": \"52fe4232c3a36847f800b579\", \"de...</td>\n",
       "      <td>Captain Barbossa, long believed to be dead, ha...</td>\n",
       "      <td>Pirates of the Caribbean: At World's End</td>\n",
       "    </tr>\n",
       "    <tr>\n",
       "      <th>2</th>\n",
       "      <td>[{\"id\": 28, \"name\": \"Action\"}, {\"id\": 12, \"nam...</td>\n",
       "      <td>206647</td>\n",
       "      <td>[{\"id\": 470, \"name\": \"spy\"}, {\"id\": 818, \"name...</td>\n",
       "      <td>[{\"cast_id\": 1, \"character\": \"James Bond\", \"cr...</td>\n",
       "      <td>[{\"credit_id\": \"54805967c3a36829b5002c41\", \"de...</td>\n",
       "      <td>A cryptic message from Bond’s past sends him o...</td>\n",
       "      <td>Spectre</td>\n",
       "    </tr>\n",
       "    <tr>\n",
       "      <th>3</th>\n",
       "      <td>[{\"id\": 28, \"name\": \"Action\"}, {\"id\": 80, \"nam...</td>\n",
       "      <td>49026</td>\n",
       "      <td>[{\"id\": 849, \"name\": \"dc comics\"}, {\"id\": 853,...</td>\n",
       "      <td>[{\"cast_id\": 2, \"character\": \"Bruce Wayne / Ba...</td>\n",
       "      <td>[{\"credit_id\": \"52fe4781c3a36847f81398c3\", \"de...</td>\n",
       "      <td>Following the death of District Attorney Harve...</td>\n",
       "      <td>The Dark Knight Rises</td>\n",
       "    </tr>\n",
       "    <tr>\n",
       "      <th>4</th>\n",
       "      <td>[{\"id\": 28, \"name\": \"Action\"}, {\"id\": 12, \"nam...</td>\n",
       "      <td>49529</td>\n",
       "      <td>[{\"id\": 818, \"name\": \"based on novel\"}, {\"id\":...</td>\n",
       "      <td>[{\"cast_id\": 5, \"character\": \"John Carter\", \"c...</td>\n",
       "      <td>[{\"credit_id\": \"52fe479ac3a36847f813eaa3\", \"de...</td>\n",
       "      <td>John Carter is a war-weary, former military ca...</td>\n",
       "      <td>John Carter</td>\n",
       "    </tr>\n",
       "  </tbody>\n",
       "</table>\n",
       "</div>"
      ],
      "text/plain": [
       "                                              genres  movie_id  \\\n",
       "0  [{\"id\": 28, \"name\": \"Action\"}, {\"id\": 12, \"nam...     19995   \n",
       "1  [{\"id\": 12, \"name\": \"Adventure\"}, {\"id\": 14, \"...       285   \n",
       "2  [{\"id\": 28, \"name\": \"Action\"}, {\"id\": 12, \"nam...    206647   \n",
       "3  [{\"id\": 28, \"name\": \"Action\"}, {\"id\": 80, \"nam...     49026   \n",
       "4  [{\"id\": 28, \"name\": \"Action\"}, {\"id\": 12, \"nam...     49529   \n",
       "\n",
       "                                            keywords  \\\n",
       "0  [{\"id\": 1463, \"name\": \"culture clash\"}, {\"id\":...   \n",
       "1  [{\"id\": 270, \"name\": \"ocean\"}, {\"id\": 726, \"na...   \n",
       "2  [{\"id\": 470, \"name\": \"spy\"}, {\"id\": 818, \"name...   \n",
       "3  [{\"id\": 849, \"name\": \"dc comics\"}, {\"id\": 853,...   \n",
       "4  [{\"id\": 818, \"name\": \"based on novel\"}, {\"id\":...   \n",
       "\n",
       "                                                cast  \\\n",
       "0  [{\"cast_id\": 242, \"character\": \"Jake Sully\", \"...   \n",
       "1  [{\"cast_id\": 4, \"character\": \"Captain Jack Spa...   \n",
       "2  [{\"cast_id\": 1, \"character\": \"James Bond\", \"cr...   \n",
       "3  [{\"cast_id\": 2, \"character\": \"Bruce Wayne / Ba...   \n",
       "4  [{\"cast_id\": 5, \"character\": \"John Carter\", \"c...   \n",
       "\n",
       "                                                crew  \\\n",
       "0  [{\"credit_id\": \"52fe48009251416c750aca23\", \"de...   \n",
       "1  [{\"credit_id\": \"52fe4232c3a36847f800b579\", \"de...   \n",
       "2  [{\"credit_id\": \"54805967c3a36829b5002c41\", \"de...   \n",
       "3  [{\"credit_id\": \"52fe4781c3a36847f81398c3\", \"de...   \n",
       "4  [{\"credit_id\": \"52fe479ac3a36847f813eaa3\", \"de...   \n",
       "\n",
       "                                            overview  \\\n",
       "0  In the 22nd century, a paraplegic Marine is di...   \n",
       "1  Captain Barbossa, long believed to be dead, ha...   \n",
       "2  A cryptic message from Bond’s past sends him o...   \n",
       "3  Following the death of District Attorney Harve...   \n",
       "4  John Carter is a war-weary, former military ca...   \n",
       "\n",
       "                                      title  \n",
       "0                                    Avatar  \n",
       "1  Pirates of the Caribbean: At World's End  \n",
       "2                                   Spectre  \n",
       "3                     The Dark Knight Rises  \n",
       "4                               John Carter  "
      ]
     },
     "execution_count": 22,
     "metadata": {},
     "output_type": "execute_result"
    }
   ],
   "source": [
    "movies.head()"
   ]
  },
  {
   "cell_type": "code",
   "execution_count": 23,
   "id": "78807571-b811-420f-bb0a-1e80012dab87",
   "metadata": {},
   "outputs": [],
   "source": [
    "movies['keywords']=movies['keywords'].apply(convert)"
   ]
  },
  {
   "cell_type": "code",
   "execution_count": 24,
   "id": "715bf49f-338f-428f-a875-5df82ceabc6f",
   "metadata": {},
   "outputs": [
    {
     "data": {
      "text/html": [
       "<div>\n",
       "<style scoped>\n",
       "    .dataframe tbody tr th:only-of-type {\n",
       "        vertical-align: middle;\n",
       "    }\n",
       "\n",
       "    .dataframe tbody tr th {\n",
       "        vertical-align: top;\n",
       "    }\n",
       "\n",
       "    .dataframe thead th {\n",
       "        text-align: right;\n",
       "    }\n",
       "</style>\n",
       "<table border=\"1\" class=\"dataframe\">\n",
       "  <thead>\n",
       "    <tr style=\"text-align: right;\">\n",
       "      <th></th>\n",
       "      <th>genres</th>\n",
       "      <th>movie_id</th>\n",
       "      <th>keywords</th>\n",
       "      <th>cast</th>\n",
       "      <th>crew</th>\n",
       "      <th>overview</th>\n",
       "      <th>title</th>\n",
       "    </tr>\n",
       "  </thead>\n",
       "  <tbody>\n",
       "    <tr>\n",
       "      <th>0</th>\n",
       "      <td>[{\"id\": 28, \"name\": \"Action\"}, {\"id\": 12, \"nam...</td>\n",
       "      <td>19995</td>\n",
       "      <td>[culture clash]</td>\n",
       "      <td>[{\"cast_id\": 242, \"character\": \"Jake Sully\", \"...</td>\n",
       "      <td>[{\"credit_id\": \"52fe48009251416c750aca23\", \"de...</td>\n",
       "      <td>In the 22nd century, a paraplegic Marine is di...</td>\n",
       "      <td>Avatar</td>\n",
       "    </tr>\n",
       "    <tr>\n",
       "      <th>1</th>\n",
       "      <td>[{\"id\": 12, \"name\": \"Adventure\"}, {\"id\": 14, \"...</td>\n",
       "      <td>285</td>\n",
       "      <td>[ocean]</td>\n",
       "      <td>[{\"cast_id\": 4, \"character\": \"Captain Jack Spa...</td>\n",
       "      <td>[{\"credit_id\": \"52fe4232c3a36847f800b579\", \"de...</td>\n",
       "      <td>Captain Barbossa, long believed to be dead, ha...</td>\n",
       "      <td>Pirates of the Caribbean: At World's End</td>\n",
       "    </tr>\n",
       "    <tr>\n",
       "      <th>2</th>\n",
       "      <td>[{\"id\": 28, \"name\": \"Action\"}, {\"id\": 12, \"nam...</td>\n",
       "      <td>206647</td>\n",
       "      <td>[spy]</td>\n",
       "      <td>[{\"cast_id\": 1, \"character\": \"James Bond\", \"cr...</td>\n",
       "      <td>[{\"credit_id\": \"54805967c3a36829b5002c41\", \"de...</td>\n",
       "      <td>A cryptic message from Bond’s past sends him o...</td>\n",
       "      <td>Spectre</td>\n",
       "    </tr>\n",
       "    <tr>\n",
       "      <th>3</th>\n",
       "      <td>[{\"id\": 28, \"name\": \"Action\"}, {\"id\": 80, \"nam...</td>\n",
       "      <td>49026</td>\n",
       "      <td>[dc comics]</td>\n",
       "      <td>[{\"cast_id\": 2, \"character\": \"Bruce Wayne / Ba...</td>\n",
       "      <td>[{\"credit_id\": \"52fe4781c3a36847f81398c3\", \"de...</td>\n",
       "      <td>Following the death of District Attorney Harve...</td>\n",
       "      <td>The Dark Knight Rises</td>\n",
       "    </tr>\n",
       "    <tr>\n",
       "      <th>4</th>\n",
       "      <td>[{\"id\": 28, \"name\": \"Action\"}, {\"id\": 12, \"nam...</td>\n",
       "      <td>49529</td>\n",
       "      <td>[based on novel]</td>\n",
       "      <td>[{\"cast_id\": 5, \"character\": \"John Carter\", \"c...</td>\n",
       "      <td>[{\"credit_id\": \"52fe479ac3a36847f813eaa3\", \"de...</td>\n",
       "      <td>John Carter is a war-weary, former military ca...</td>\n",
       "      <td>John Carter</td>\n",
       "    </tr>\n",
       "  </tbody>\n",
       "</table>\n",
       "</div>"
      ],
      "text/plain": [
       "                                              genres  movie_id  \\\n",
       "0  [{\"id\": 28, \"name\": \"Action\"}, {\"id\": 12, \"nam...     19995   \n",
       "1  [{\"id\": 12, \"name\": \"Adventure\"}, {\"id\": 14, \"...       285   \n",
       "2  [{\"id\": 28, \"name\": \"Action\"}, {\"id\": 12, \"nam...    206647   \n",
       "3  [{\"id\": 28, \"name\": \"Action\"}, {\"id\": 80, \"nam...     49026   \n",
       "4  [{\"id\": 28, \"name\": \"Action\"}, {\"id\": 12, \"nam...     49529   \n",
       "\n",
       "           keywords                                               cast  \\\n",
       "0   [culture clash]  [{\"cast_id\": 242, \"character\": \"Jake Sully\", \"...   \n",
       "1           [ocean]  [{\"cast_id\": 4, \"character\": \"Captain Jack Spa...   \n",
       "2             [spy]  [{\"cast_id\": 1, \"character\": \"James Bond\", \"cr...   \n",
       "3       [dc comics]  [{\"cast_id\": 2, \"character\": \"Bruce Wayne / Ba...   \n",
       "4  [based on novel]  [{\"cast_id\": 5, \"character\": \"John Carter\", \"c...   \n",
       "\n",
       "                                                crew  \\\n",
       "0  [{\"credit_id\": \"52fe48009251416c750aca23\", \"de...   \n",
       "1  [{\"credit_id\": \"52fe4232c3a36847f800b579\", \"de...   \n",
       "2  [{\"credit_id\": \"54805967c3a36829b5002c41\", \"de...   \n",
       "3  [{\"credit_id\": \"52fe4781c3a36847f81398c3\", \"de...   \n",
       "4  [{\"credit_id\": \"52fe479ac3a36847f813eaa3\", \"de...   \n",
       "\n",
       "                                            overview  \\\n",
       "0  In the 22nd century, a paraplegic Marine is di...   \n",
       "1  Captain Barbossa, long believed to be dead, ha...   \n",
       "2  A cryptic message from Bond’s past sends him o...   \n",
       "3  Following the death of District Attorney Harve...   \n",
       "4  John Carter is a war-weary, former military ca...   \n",
       "\n",
       "                                      title  \n",
       "0                                    Avatar  \n",
       "1  Pirates of the Caribbean: At World's End  \n",
       "2                                   Spectre  \n",
       "3                     The Dark Knight Rises  \n",
       "4                               John Carter  "
      ]
     },
     "execution_count": 24,
     "metadata": {},
     "output_type": "execute_result"
    }
   ],
   "source": [
    "movies.head()"
   ]
  },
  {
   "cell_type": "code",
   "execution_count": 25,
   "id": "fedfbdbb-b45b-45b2-9b36-392f4ebc7a8e",
   "metadata": {},
   "outputs": [],
   "source": [
    "import ast\n",
    "\n",
    "def convert3(obj):\n",
    "    L = []\n",
    "    counter = 0\n",
    "    for i in ast.literal_eval(obj):\n",
    "        if counter != 3:\n",
    "            L.append(i['name'])\n",
    "            counter += 1\n",
    "        else:\n",
    "            break\n",
    "    return L"
   ]
  },
  {
   "cell_type": "code",
   "execution_count": 26,
   "id": "8601cacf-2c55-4573-88cf-553d554ab333",
   "metadata": {},
   "outputs": [],
   "source": [
    "movies['cast']=movies['cast'].apply(convert3)"
   ]
  },
  {
   "cell_type": "code",
   "execution_count": 27,
   "id": "a6974ed4-7e1f-4d81-8ef0-ec6a3d332d3f",
   "metadata": {},
   "outputs": [
    {
     "data": {
      "text/html": [
       "<div>\n",
       "<style scoped>\n",
       "    .dataframe tbody tr th:only-of-type {\n",
       "        vertical-align: middle;\n",
       "    }\n",
       "\n",
       "    .dataframe tbody tr th {\n",
       "        vertical-align: top;\n",
       "    }\n",
       "\n",
       "    .dataframe thead th {\n",
       "        text-align: right;\n",
       "    }\n",
       "</style>\n",
       "<table border=\"1\" class=\"dataframe\">\n",
       "  <thead>\n",
       "    <tr style=\"text-align: right;\">\n",
       "      <th></th>\n",
       "      <th>genres</th>\n",
       "      <th>movie_id</th>\n",
       "      <th>keywords</th>\n",
       "      <th>cast</th>\n",
       "      <th>crew</th>\n",
       "      <th>overview</th>\n",
       "      <th>title</th>\n",
       "    </tr>\n",
       "  </thead>\n",
       "  <tbody>\n",
       "    <tr>\n",
       "      <th>0</th>\n",
       "      <td>[{\"id\": 28, \"name\": \"Action\"}, {\"id\": 12, \"nam...</td>\n",
       "      <td>19995</td>\n",
       "      <td>[culture clash]</td>\n",
       "      <td>[Sam Worthington, Zoe Saldana, Sigourney Weaver]</td>\n",
       "      <td>[{\"credit_id\": \"52fe48009251416c750aca23\", \"de...</td>\n",
       "      <td>In the 22nd century, a paraplegic Marine is di...</td>\n",
       "      <td>Avatar</td>\n",
       "    </tr>\n",
       "    <tr>\n",
       "      <th>1</th>\n",
       "      <td>[{\"id\": 12, \"name\": \"Adventure\"}, {\"id\": 14, \"...</td>\n",
       "      <td>285</td>\n",
       "      <td>[ocean]</td>\n",
       "      <td>[Johnny Depp, Orlando Bloom, Keira Knightley]</td>\n",
       "      <td>[{\"credit_id\": \"52fe4232c3a36847f800b579\", \"de...</td>\n",
       "      <td>Captain Barbossa, long believed to be dead, ha...</td>\n",
       "      <td>Pirates of the Caribbean: At World's End</td>\n",
       "    </tr>\n",
       "    <tr>\n",
       "      <th>2</th>\n",
       "      <td>[{\"id\": 28, \"name\": \"Action\"}, {\"id\": 12, \"nam...</td>\n",
       "      <td>206647</td>\n",
       "      <td>[spy]</td>\n",
       "      <td>[Daniel Craig, Christoph Waltz, Léa Seydoux]</td>\n",
       "      <td>[{\"credit_id\": \"54805967c3a36829b5002c41\", \"de...</td>\n",
       "      <td>A cryptic message from Bond’s past sends him o...</td>\n",
       "      <td>Spectre</td>\n",
       "    </tr>\n",
       "    <tr>\n",
       "      <th>3</th>\n",
       "      <td>[{\"id\": 28, \"name\": \"Action\"}, {\"id\": 80, \"nam...</td>\n",
       "      <td>49026</td>\n",
       "      <td>[dc comics]</td>\n",
       "      <td>[Christian Bale, Michael Caine, Gary Oldman]</td>\n",
       "      <td>[{\"credit_id\": \"52fe4781c3a36847f81398c3\", \"de...</td>\n",
       "      <td>Following the death of District Attorney Harve...</td>\n",
       "      <td>The Dark Knight Rises</td>\n",
       "    </tr>\n",
       "    <tr>\n",
       "      <th>4</th>\n",
       "      <td>[{\"id\": 28, \"name\": \"Action\"}, {\"id\": 12, \"nam...</td>\n",
       "      <td>49529</td>\n",
       "      <td>[based on novel]</td>\n",
       "      <td>[Taylor Kitsch, Lynn Collins, Samantha Morton]</td>\n",
       "      <td>[{\"credit_id\": \"52fe479ac3a36847f813eaa3\", \"de...</td>\n",
       "      <td>John Carter is a war-weary, former military ca...</td>\n",
       "      <td>John Carter</td>\n",
       "    </tr>\n",
       "  </tbody>\n",
       "</table>\n",
       "</div>"
      ],
      "text/plain": [
       "                                              genres  movie_id  \\\n",
       "0  [{\"id\": 28, \"name\": \"Action\"}, {\"id\": 12, \"nam...     19995   \n",
       "1  [{\"id\": 12, \"name\": \"Adventure\"}, {\"id\": 14, \"...       285   \n",
       "2  [{\"id\": 28, \"name\": \"Action\"}, {\"id\": 12, \"nam...    206647   \n",
       "3  [{\"id\": 28, \"name\": \"Action\"}, {\"id\": 80, \"nam...     49026   \n",
       "4  [{\"id\": 28, \"name\": \"Action\"}, {\"id\": 12, \"nam...     49529   \n",
       "\n",
       "           keywords                                              cast  \\\n",
       "0   [culture clash]  [Sam Worthington, Zoe Saldana, Sigourney Weaver]   \n",
       "1           [ocean]     [Johnny Depp, Orlando Bloom, Keira Knightley]   \n",
       "2             [spy]      [Daniel Craig, Christoph Waltz, Léa Seydoux]   \n",
       "3       [dc comics]      [Christian Bale, Michael Caine, Gary Oldman]   \n",
       "4  [based on novel]    [Taylor Kitsch, Lynn Collins, Samantha Morton]   \n",
       "\n",
       "                                                crew  \\\n",
       "0  [{\"credit_id\": \"52fe48009251416c750aca23\", \"de...   \n",
       "1  [{\"credit_id\": \"52fe4232c3a36847f800b579\", \"de...   \n",
       "2  [{\"credit_id\": \"54805967c3a36829b5002c41\", \"de...   \n",
       "3  [{\"credit_id\": \"52fe4781c3a36847f81398c3\", \"de...   \n",
       "4  [{\"credit_id\": \"52fe479ac3a36847f813eaa3\", \"de...   \n",
       "\n",
       "                                            overview  \\\n",
       "0  In the 22nd century, a paraplegic Marine is di...   \n",
       "1  Captain Barbossa, long believed to be dead, ha...   \n",
       "2  A cryptic message from Bond’s past sends him o...   \n",
       "3  Following the death of District Attorney Harve...   \n",
       "4  John Carter is a war-weary, former military ca...   \n",
       "\n",
       "                                      title  \n",
       "0                                    Avatar  \n",
       "1  Pirates of the Caribbean: At World's End  \n",
       "2                                   Spectre  \n",
       "3                     The Dark Knight Rises  \n",
       "4                               John Carter  "
      ]
     },
     "execution_count": 27,
     "metadata": {},
     "output_type": "execute_result"
    }
   ],
   "source": [
    "movies.head()"
   ]
  },
  {
   "cell_type": "code",
   "execution_count": 28,
   "id": "e3a30e95-8eed-4291-9b62-dad0852ca5b9",
   "metadata": {},
   "outputs": [],
   "source": [
    "import ast\n",
    "\n",
    "def fetch_director(obj):\n",
    "    L = []\n",
    "    for i in ast.literal_eval(obj):\n",
    "        if i['job'] == 'Director':\n",
    "            L.append(i['name'])\n",
    "            break\n",
    "    return L"
   ]
  },
  {
   "cell_type": "code",
   "execution_count": 29,
   "id": "73d78fda-d318-4f12-a9fe-0b94bba5f6c8",
   "metadata": {},
   "outputs": [
    {
     "data": {
      "text/plain": [
       "0           [James Cameron]\n",
       "1          [Gore Verbinski]\n",
       "2              [Sam Mendes]\n",
       "3       [Christopher Nolan]\n",
       "4          [Andrew Stanton]\n",
       "               ...         \n",
       "4804     [Robert Rodriguez]\n",
       "4805         [Edward Burns]\n",
       "4806          [Scott Smith]\n",
       "4807          [Daniel Hsia]\n",
       "4808     [Brian Herzlinger]\n",
       "Name: crew, Length: 4806, dtype: object"
      ]
     },
     "execution_count": 29,
     "metadata": {},
     "output_type": "execute_result"
    }
   ],
   "source": [
    "movies['crew'].apply(fetch_director)"
   ]
  },
  {
   "cell_type": "code",
   "execution_count": 30,
   "id": "1376b69d-0694-4153-b9ad-d2a3bfc6f42d",
   "metadata": {},
   "outputs": [
    {
     "data": {
      "text/html": [
       "<div>\n",
       "<style scoped>\n",
       "    .dataframe tbody tr th:only-of-type {\n",
       "        vertical-align: middle;\n",
       "    }\n",
       "\n",
       "    .dataframe tbody tr th {\n",
       "        vertical-align: top;\n",
       "    }\n",
       "\n",
       "    .dataframe thead th {\n",
       "        text-align: right;\n",
       "    }\n",
       "</style>\n",
       "<table border=\"1\" class=\"dataframe\">\n",
       "  <thead>\n",
       "    <tr style=\"text-align: right;\">\n",
       "      <th></th>\n",
       "      <th>genres</th>\n",
       "      <th>movie_id</th>\n",
       "      <th>keywords</th>\n",
       "      <th>cast</th>\n",
       "      <th>crew</th>\n",
       "      <th>overview</th>\n",
       "      <th>title</th>\n",
       "    </tr>\n",
       "  </thead>\n",
       "  <tbody>\n",
       "    <tr>\n",
       "      <th>0</th>\n",
       "      <td>[{\"id\": 28, \"name\": \"Action\"}, {\"id\": 12, \"nam...</td>\n",
       "      <td>19995</td>\n",
       "      <td>[culture clash]</td>\n",
       "      <td>[Sam Worthington, Zoe Saldana, Sigourney Weaver]</td>\n",
       "      <td>[{\"credit_id\": \"52fe48009251416c750aca23\", \"de...</td>\n",
       "      <td>In the 22nd century, a paraplegic Marine is di...</td>\n",
       "      <td>Avatar</td>\n",
       "    </tr>\n",
       "    <tr>\n",
       "      <th>1</th>\n",
       "      <td>[{\"id\": 12, \"name\": \"Adventure\"}, {\"id\": 14, \"...</td>\n",
       "      <td>285</td>\n",
       "      <td>[ocean]</td>\n",
       "      <td>[Johnny Depp, Orlando Bloom, Keira Knightley]</td>\n",
       "      <td>[{\"credit_id\": \"52fe4232c3a36847f800b579\", \"de...</td>\n",
       "      <td>Captain Barbossa, long believed to be dead, ha...</td>\n",
       "      <td>Pirates of the Caribbean: At World's End</td>\n",
       "    </tr>\n",
       "    <tr>\n",
       "      <th>2</th>\n",
       "      <td>[{\"id\": 28, \"name\": \"Action\"}, {\"id\": 12, \"nam...</td>\n",
       "      <td>206647</td>\n",
       "      <td>[spy]</td>\n",
       "      <td>[Daniel Craig, Christoph Waltz, Léa Seydoux]</td>\n",
       "      <td>[{\"credit_id\": \"54805967c3a36829b5002c41\", \"de...</td>\n",
       "      <td>A cryptic message from Bond’s past sends him o...</td>\n",
       "      <td>Spectre</td>\n",
       "    </tr>\n",
       "    <tr>\n",
       "      <th>3</th>\n",
       "      <td>[{\"id\": 28, \"name\": \"Action\"}, {\"id\": 80, \"nam...</td>\n",
       "      <td>49026</td>\n",
       "      <td>[dc comics]</td>\n",
       "      <td>[Christian Bale, Michael Caine, Gary Oldman]</td>\n",
       "      <td>[{\"credit_id\": \"52fe4781c3a36847f81398c3\", \"de...</td>\n",
       "      <td>Following the death of District Attorney Harve...</td>\n",
       "      <td>The Dark Knight Rises</td>\n",
       "    </tr>\n",
       "    <tr>\n",
       "      <th>4</th>\n",
       "      <td>[{\"id\": 28, \"name\": \"Action\"}, {\"id\": 12, \"nam...</td>\n",
       "      <td>49529</td>\n",
       "      <td>[based on novel]</td>\n",
       "      <td>[Taylor Kitsch, Lynn Collins, Samantha Morton]</td>\n",
       "      <td>[{\"credit_id\": \"52fe479ac3a36847f813eaa3\", \"de...</td>\n",
       "      <td>John Carter is a war-weary, former military ca...</td>\n",
       "      <td>John Carter</td>\n",
       "    </tr>\n",
       "  </tbody>\n",
       "</table>\n",
       "</div>"
      ],
      "text/plain": [
       "                                              genres  movie_id  \\\n",
       "0  [{\"id\": 28, \"name\": \"Action\"}, {\"id\": 12, \"nam...     19995   \n",
       "1  [{\"id\": 12, \"name\": \"Adventure\"}, {\"id\": 14, \"...       285   \n",
       "2  [{\"id\": 28, \"name\": \"Action\"}, {\"id\": 12, \"nam...    206647   \n",
       "3  [{\"id\": 28, \"name\": \"Action\"}, {\"id\": 80, \"nam...     49026   \n",
       "4  [{\"id\": 28, \"name\": \"Action\"}, {\"id\": 12, \"nam...     49529   \n",
       "\n",
       "           keywords                                              cast  \\\n",
       "0   [culture clash]  [Sam Worthington, Zoe Saldana, Sigourney Weaver]   \n",
       "1           [ocean]     [Johnny Depp, Orlando Bloom, Keira Knightley]   \n",
       "2             [spy]      [Daniel Craig, Christoph Waltz, Léa Seydoux]   \n",
       "3       [dc comics]      [Christian Bale, Michael Caine, Gary Oldman]   \n",
       "4  [based on novel]    [Taylor Kitsch, Lynn Collins, Samantha Morton]   \n",
       "\n",
       "                                                crew  \\\n",
       "0  [{\"credit_id\": \"52fe48009251416c750aca23\", \"de...   \n",
       "1  [{\"credit_id\": \"52fe4232c3a36847f800b579\", \"de...   \n",
       "2  [{\"credit_id\": \"54805967c3a36829b5002c41\", \"de...   \n",
       "3  [{\"credit_id\": \"52fe4781c3a36847f81398c3\", \"de...   \n",
       "4  [{\"credit_id\": \"52fe479ac3a36847f813eaa3\", \"de...   \n",
       "\n",
       "                                            overview  \\\n",
       "0  In the 22nd century, a paraplegic Marine is di...   \n",
       "1  Captain Barbossa, long believed to be dead, ha...   \n",
       "2  A cryptic message from Bond’s past sends him o...   \n",
       "3  Following the death of District Attorney Harve...   \n",
       "4  John Carter is a war-weary, former military ca...   \n",
       "\n",
       "                                      title  \n",
       "0                                    Avatar  \n",
       "1  Pirates of the Caribbean: At World's End  \n",
       "2                                   Spectre  \n",
       "3                     The Dark Knight Rises  \n",
       "4                               John Carter  "
      ]
     },
     "execution_count": 30,
     "metadata": {},
     "output_type": "execute_result"
    }
   ],
   "source": [
    "movies.head()"
   ]
  },
  {
   "cell_type": "code",
   "execution_count": 31,
   "id": "905afeb3-1ce0-4450-9c15-7cc1fd592c60",
   "metadata": {},
   "outputs": [
    {
     "data": {
      "text/plain": [
       "0       In the 22nd century, a paraplegic Marine is di...\n",
       "1       Captain Barbossa, long believed to be dead, ha...\n",
       "2       A cryptic message from Bond’s past sends him o...\n",
       "3       Following the death of District Attorney Harve...\n",
       "4       John Carter is a war-weary, former military ca...\n",
       "                              ...                        \n",
       "4804    El Mariachi just wants to play his guitar and ...\n",
       "4805    A newlywed couple's honeymoon is upended by th...\n",
       "4806    \"Signed, Sealed, Delivered\" introduces a dedic...\n",
       "4807    When ambitious New York attorney Sam is sent t...\n",
       "4808    Ever since the second grade when he first saw ...\n",
       "Name: overview, Length: 4806, dtype: object"
      ]
     },
     "execution_count": 31,
     "metadata": {},
     "output_type": "execute_result"
    }
   ],
   "source": [
    "movies['overview']"
   ]
  },
  {
   "cell_type": "code",
   "execution_count": 32,
   "id": "5032ea37-7f40-4997-abce-9c3cc3ded731",
   "metadata": {},
   "outputs": [],
   "source": [
    "movies['overview']=movies['overview'].apply(lambda x:x.split())"
   ]
  },
  {
   "cell_type": "code",
   "execution_count": 33,
   "id": "3e20bb7c-43c4-4963-93e7-d018e144e30f",
   "metadata": {},
   "outputs": [
    {
     "data": {
      "text/html": [
       "<div>\n",
       "<style scoped>\n",
       "    .dataframe tbody tr th:only-of-type {\n",
       "        vertical-align: middle;\n",
       "    }\n",
       "\n",
       "    .dataframe tbody tr th {\n",
       "        vertical-align: top;\n",
       "    }\n",
       "\n",
       "    .dataframe thead th {\n",
       "        text-align: right;\n",
       "    }\n",
       "</style>\n",
       "<table border=\"1\" class=\"dataframe\">\n",
       "  <thead>\n",
       "    <tr style=\"text-align: right;\">\n",
       "      <th></th>\n",
       "      <th>genres</th>\n",
       "      <th>movie_id</th>\n",
       "      <th>keywords</th>\n",
       "      <th>cast</th>\n",
       "      <th>crew</th>\n",
       "      <th>overview</th>\n",
       "      <th>title</th>\n",
       "    </tr>\n",
       "  </thead>\n",
       "  <tbody>\n",
       "    <tr>\n",
       "      <th>0</th>\n",
       "      <td>[{\"id\": 28, \"name\": \"Action\"}, {\"id\": 12, \"nam...</td>\n",
       "      <td>19995</td>\n",
       "      <td>[culture clash]</td>\n",
       "      <td>[Sam Worthington, Zoe Saldana, Sigourney Weaver]</td>\n",
       "      <td>[{\"credit_id\": \"52fe48009251416c750aca23\", \"de...</td>\n",
       "      <td>[In, the, 22nd, century,, a, paraplegic, Marin...</td>\n",
       "      <td>Avatar</td>\n",
       "    </tr>\n",
       "    <tr>\n",
       "      <th>1</th>\n",
       "      <td>[{\"id\": 12, \"name\": \"Adventure\"}, {\"id\": 14, \"...</td>\n",
       "      <td>285</td>\n",
       "      <td>[ocean]</td>\n",
       "      <td>[Johnny Depp, Orlando Bloom, Keira Knightley]</td>\n",
       "      <td>[{\"credit_id\": \"52fe4232c3a36847f800b579\", \"de...</td>\n",
       "      <td>[Captain, Barbossa,, long, believed, to, be, d...</td>\n",
       "      <td>Pirates of the Caribbean: At World's End</td>\n",
       "    </tr>\n",
       "    <tr>\n",
       "      <th>2</th>\n",
       "      <td>[{\"id\": 28, \"name\": \"Action\"}, {\"id\": 12, \"nam...</td>\n",
       "      <td>206647</td>\n",
       "      <td>[spy]</td>\n",
       "      <td>[Daniel Craig, Christoph Waltz, Léa Seydoux]</td>\n",
       "      <td>[{\"credit_id\": \"54805967c3a36829b5002c41\", \"de...</td>\n",
       "      <td>[A, cryptic, message, from, Bond’s, past, send...</td>\n",
       "      <td>Spectre</td>\n",
       "    </tr>\n",
       "    <tr>\n",
       "      <th>3</th>\n",
       "      <td>[{\"id\": 28, \"name\": \"Action\"}, {\"id\": 80, \"nam...</td>\n",
       "      <td>49026</td>\n",
       "      <td>[dc comics]</td>\n",
       "      <td>[Christian Bale, Michael Caine, Gary Oldman]</td>\n",
       "      <td>[{\"credit_id\": \"52fe4781c3a36847f81398c3\", \"de...</td>\n",
       "      <td>[Following, the, death, of, District, Attorney...</td>\n",
       "      <td>The Dark Knight Rises</td>\n",
       "    </tr>\n",
       "    <tr>\n",
       "      <th>4</th>\n",
       "      <td>[{\"id\": 28, \"name\": \"Action\"}, {\"id\": 12, \"nam...</td>\n",
       "      <td>49529</td>\n",
       "      <td>[based on novel]</td>\n",
       "      <td>[Taylor Kitsch, Lynn Collins, Samantha Morton]</td>\n",
       "      <td>[{\"credit_id\": \"52fe479ac3a36847f813eaa3\", \"de...</td>\n",
       "      <td>[John, Carter, is, a, war-weary,, former, mili...</td>\n",
       "      <td>John Carter</td>\n",
       "    </tr>\n",
       "  </tbody>\n",
       "</table>\n",
       "</div>"
      ],
      "text/plain": [
       "                                              genres  movie_id  \\\n",
       "0  [{\"id\": 28, \"name\": \"Action\"}, {\"id\": 12, \"nam...     19995   \n",
       "1  [{\"id\": 12, \"name\": \"Adventure\"}, {\"id\": 14, \"...       285   \n",
       "2  [{\"id\": 28, \"name\": \"Action\"}, {\"id\": 12, \"nam...    206647   \n",
       "3  [{\"id\": 28, \"name\": \"Action\"}, {\"id\": 80, \"nam...     49026   \n",
       "4  [{\"id\": 28, \"name\": \"Action\"}, {\"id\": 12, \"nam...     49529   \n",
       "\n",
       "           keywords                                              cast  \\\n",
       "0   [culture clash]  [Sam Worthington, Zoe Saldana, Sigourney Weaver]   \n",
       "1           [ocean]     [Johnny Depp, Orlando Bloom, Keira Knightley]   \n",
       "2             [spy]      [Daniel Craig, Christoph Waltz, Léa Seydoux]   \n",
       "3       [dc comics]      [Christian Bale, Michael Caine, Gary Oldman]   \n",
       "4  [based on novel]    [Taylor Kitsch, Lynn Collins, Samantha Morton]   \n",
       "\n",
       "                                                crew  \\\n",
       "0  [{\"credit_id\": \"52fe48009251416c750aca23\", \"de...   \n",
       "1  [{\"credit_id\": \"52fe4232c3a36847f800b579\", \"de...   \n",
       "2  [{\"credit_id\": \"54805967c3a36829b5002c41\", \"de...   \n",
       "3  [{\"credit_id\": \"52fe4781c3a36847f81398c3\", \"de...   \n",
       "4  [{\"credit_id\": \"52fe479ac3a36847f813eaa3\", \"de...   \n",
       "\n",
       "                                            overview  \\\n",
       "0  [In, the, 22nd, century,, a, paraplegic, Marin...   \n",
       "1  [Captain, Barbossa,, long, believed, to, be, d...   \n",
       "2  [A, cryptic, message, from, Bond’s, past, send...   \n",
       "3  [Following, the, death, of, District, Attorney...   \n",
       "4  [John, Carter, is, a, war-weary,, former, mili...   \n",
       "\n",
       "                                      title  \n",
       "0                                    Avatar  \n",
       "1  Pirates of the Caribbean: At World's End  \n",
       "2                                   Spectre  \n",
       "3                     The Dark Knight Rises  \n",
       "4                               John Carter  "
      ]
     },
     "execution_count": 33,
     "metadata": {},
     "output_type": "execute_result"
    }
   ],
   "source": [
    " movies.head()"
   ]
  },
  {
   "cell_type": "code",
   "execution_count": 34,
   "id": "85c37493-5c41-4eab-b0b6-8c3d0bc0dece",
   "metadata": {},
   "outputs": [],
   "source": [
    "movies['genres']=movies['genres'].apply(lambda x:[i.replace(\" \",\"\") for i in x])\n",
    "# movies['keywords']=movies['keywords'].apply(lambda x:[i.replace(\" \",\"\") for i in x])\n",
    "movies['keywords'] = movies['keywords'].apply(\n",
    "    lambda x: [i.replace(\" \", \"\") for i in x] if isinstance(x, list) else []\n",
    ")\n",
    "movies['cast']=movies['cast'].apply(lambda x:[i.replace(\" \",\"\") for i in x])\n",
    "movies['crew']=movies['crew'].apply(lambda x:[i.replace(\" \",\"\") for i in x])"
   ]
  },
  {
   "cell_type": "code",
   "execution_count": 35,
   "id": "e612744c-dd04-458a-927a-cc47eee1ef07",
   "metadata": {},
   "outputs": [
    {
     "data": {
      "text/html": [
       "<div>\n",
       "<style scoped>\n",
       "    .dataframe tbody tr th:only-of-type {\n",
       "        vertical-align: middle;\n",
       "    }\n",
       "\n",
       "    .dataframe tbody tr th {\n",
       "        vertical-align: top;\n",
       "    }\n",
       "\n",
       "    .dataframe thead th {\n",
       "        text-align: right;\n",
       "    }\n",
       "</style>\n",
       "<table border=\"1\" class=\"dataframe\">\n",
       "  <thead>\n",
       "    <tr style=\"text-align: right;\">\n",
       "      <th></th>\n",
       "      <th>genres</th>\n",
       "      <th>movie_id</th>\n",
       "      <th>keywords</th>\n",
       "      <th>cast</th>\n",
       "      <th>crew</th>\n",
       "      <th>overview</th>\n",
       "      <th>title</th>\n",
       "    </tr>\n",
       "  </thead>\n",
       "  <tbody>\n",
       "    <tr>\n",
       "      <th>0</th>\n",
       "      <td>[[, {, \", i, d, \", :, , 2, 8, ,, , \", n, a, m,...</td>\n",
       "      <td>19995</td>\n",
       "      <td>[cultureclash]</td>\n",
       "      <td>[SamWorthington, ZoeSaldana, SigourneyWeaver]</td>\n",
       "      <td>[[, {, \", c, r, e, d, i, t, _, i, d, \", :, , \"...</td>\n",
       "      <td>[In, the, 22nd, century,, a, paraplegic, Marin...</td>\n",
       "      <td>Avatar</td>\n",
       "    </tr>\n",
       "    <tr>\n",
       "      <th>1</th>\n",
       "      <td>[[, {, \", i, d, \", :, , 1, 2, ,, , \", n, a, m,...</td>\n",
       "      <td>285</td>\n",
       "      <td>[ocean]</td>\n",
       "      <td>[JohnnyDepp, OrlandoBloom, KeiraKnightley]</td>\n",
       "      <td>[[, {, \", c, r, e, d, i, t, _, i, d, \", :, , \"...</td>\n",
       "      <td>[Captain, Barbossa,, long, believed, to, be, d...</td>\n",
       "      <td>Pirates of the Caribbean: At World's End</td>\n",
       "    </tr>\n",
       "    <tr>\n",
       "      <th>2</th>\n",
       "      <td>[[, {, \", i, d, \", :, , 2, 8, ,, , \", n, a, m,...</td>\n",
       "      <td>206647</td>\n",
       "      <td>[spy]</td>\n",
       "      <td>[DanielCraig, ChristophWaltz, LéaSeydoux]</td>\n",
       "      <td>[[, {, \", c, r, e, d, i, t, _, i, d, \", :, , \"...</td>\n",
       "      <td>[A, cryptic, message, from, Bond’s, past, send...</td>\n",
       "      <td>Spectre</td>\n",
       "    </tr>\n",
       "    <tr>\n",
       "      <th>3</th>\n",
       "      <td>[[, {, \", i, d, \", :, , 2, 8, ,, , \", n, a, m,...</td>\n",
       "      <td>49026</td>\n",
       "      <td>[dccomics]</td>\n",
       "      <td>[ChristianBale, MichaelCaine, GaryOldman]</td>\n",
       "      <td>[[, {, \", c, r, e, d, i, t, _, i, d, \", :, , \"...</td>\n",
       "      <td>[Following, the, death, of, District, Attorney...</td>\n",
       "      <td>The Dark Knight Rises</td>\n",
       "    </tr>\n",
       "    <tr>\n",
       "      <th>4</th>\n",
       "      <td>[[, {, \", i, d, \", :, , 2, 8, ,, , \", n, a, m,...</td>\n",
       "      <td>49529</td>\n",
       "      <td>[basedonnovel]</td>\n",
       "      <td>[TaylorKitsch, LynnCollins, SamanthaMorton]</td>\n",
       "      <td>[[, {, \", c, r, e, d, i, t, _, i, d, \", :, , \"...</td>\n",
       "      <td>[John, Carter, is, a, war-weary,, former, mili...</td>\n",
       "      <td>John Carter</td>\n",
       "    </tr>\n",
       "  </tbody>\n",
       "</table>\n",
       "</div>"
      ],
      "text/plain": [
       "                                              genres  movie_id  \\\n",
       "0  [[, {, \", i, d, \", :, , 2, 8, ,, , \", n, a, m,...     19995   \n",
       "1  [[, {, \", i, d, \", :, , 1, 2, ,, , \", n, a, m,...       285   \n",
       "2  [[, {, \", i, d, \", :, , 2, 8, ,, , \", n, a, m,...    206647   \n",
       "3  [[, {, \", i, d, \", :, , 2, 8, ,, , \", n, a, m,...     49026   \n",
       "4  [[, {, \", i, d, \", :, , 2, 8, ,, , \", n, a, m,...     49529   \n",
       "\n",
       "         keywords                                           cast  \\\n",
       "0  [cultureclash]  [SamWorthington, ZoeSaldana, SigourneyWeaver]   \n",
       "1         [ocean]     [JohnnyDepp, OrlandoBloom, KeiraKnightley]   \n",
       "2           [spy]      [DanielCraig, ChristophWaltz, LéaSeydoux]   \n",
       "3      [dccomics]      [ChristianBale, MichaelCaine, GaryOldman]   \n",
       "4  [basedonnovel]    [TaylorKitsch, LynnCollins, SamanthaMorton]   \n",
       "\n",
       "                                                crew  \\\n",
       "0  [[, {, \", c, r, e, d, i, t, _, i, d, \", :, , \"...   \n",
       "1  [[, {, \", c, r, e, d, i, t, _, i, d, \", :, , \"...   \n",
       "2  [[, {, \", c, r, e, d, i, t, _, i, d, \", :, , \"...   \n",
       "3  [[, {, \", c, r, e, d, i, t, _, i, d, \", :, , \"...   \n",
       "4  [[, {, \", c, r, e, d, i, t, _, i, d, \", :, , \"...   \n",
       "\n",
       "                                            overview  \\\n",
       "0  [In, the, 22nd, century,, a, paraplegic, Marin...   \n",
       "1  [Captain, Barbossa,, long, believed, to, be, d...   \n",
       "2  [A, cryptic, message, from, Bond’s, past, send...   \n",
       "3  [Following, the, death, of, District, Attorney...   \n",
       "4  [John, Carter, is, a, war-weary,, former, mili...   \n",
       "\n",
       "                                      title  \n",
       "0                                    Avatar  \n",
       "1  Pirates of the Caribbean: At World's End  \n",
       "2                                   Spectre  \n",
       "3                     The Dark Knight Rises  \n",
       "4                               John Carter  "
      ]
     },
     "execution_count": 35,
     "metadata": {},
     "output_type": "execute_result"
    }
   ],
   "source": [
    "movies.head()"
   ]
  },
  {
   "cell_type": "code",
   "execution_count": 36,
   "id": "22d7858d-0638-489e-9cf7-df689d621d80",
   "metadata": {},
   "outputs": [],
   "source": [
    "movies['tags']=movies['overview']+movies['genres']+movies['keywords']+movies['cast']+movies['crew']"
   ]
  },
  {
   "cell_type": "code",
   "execution_count": 37,
   "id": "c75dbf7c-1471-44d2-8cee-38953b72162e",
   "metadata": {},
   "outputs": [
    {
     "data": {
      "text/html": [
       "<div>\n",
       "<style scoped>\n",
       "    .dataframe tbody tr th:only-of-type {\n",
       "        vertical-align: middle;\n",
       "    }\n",
       "\n",
       "    .dataframe tbody tr th {\n",
       "        vertical-align: top;\n",
       "    }\n",
       "\n",
       "    .dataframe thead th {\n",
       "        text-align: right;\n",
       "    }\n",
       "</style>\n",
       "<table border=\"1\" class=\"dataframe\">\n",
       "  <thead>\n",
       "    <tr style=\"text-align: right;\">\n",
       "      <th></th>\n",
       "      <th>genres</th>\n",
       "      <th>movie_id</th>\n",
       "      <th>keywords</th>\n",
       "      <th>cast</th>\n",
       "      <th>crew</th>\n",
       "      <th>overview</th>\n",
       "      <th>title</th>\n",
       "      <th>tags</th>\n",
       "    </tr>\n",
       "  </thead>\n",
       "  <tbody>\n",
       "    <tr>\n",
       "      <th>0</th>\n",
       "      <td>[[, {, \", i, d, \", :, , 2, 8, ,, , \", n, a, m,...</td>\n",
       "      <td>19995</td>\n",
       "      <td>[cultureclash]</td>\n",
       "      <td>[SamWorthington, ZoeSaldana, SigourneyWeaver]</td>\n",
       "      <td>[[, {, \", c, r, e, d, i, t, _, i, d, \", :, , \"...</td>\n",
       "      <td>[In, the, 22nd, century,, a, paraplegic, Marin...</td>\n",
       "      <td>Avatar</td>\n",
       "      <td>[In, the, 22nd, century,, a, paraplegic, Marin...</td>\n",
       "    </tr>\n",
       "    <tr>\n",
       "      <th>1</th>\n",
       "      <td>[[, {, \", i, d, \", :, , 1, 2, ,, , \", n, a, m,...</td>\n",
       "      <td>285</td>\n",
       "      <td>[ocean]</td>\n",
       "      <td>[JohnnyDepp, OrlandoBloom, KeiraKnightley]</td>\n",
       "      <td>[[, {, \", c, r, e, d, i, t, _, i, d, \", :, , \"...</td>\n",
       "      <td>[Captain, Barbossa,, long, believed, to, be, d...</td>\n",
       "      <td>Pirates of the Caribbean: At World's End</td>\n",
       "      <td>[Captain, Barbossa,, long, believed, to, be, d...</td>\n",
       "    </tr>\n",
       "    <tr>\n",
       "      <th>2</th>\n",
       "      <td>[[, {, \", i, d, \", :, , 2, 8, ,, , \", n, a, m,...</td>\n",
       "      <td>206647</td>\n",
       "      <td>[spy]</td>\n",
       "      <td>[DanielCraig, ChristophWaltz, LéaSeydoux]</td>\n",
       "      <td>[[, {, \", c, r, e, d, i, t, _, i, d, \", :, , \"...</td>\n",
       "      <td>[A, cryptic, message, from, Bond’s, past, send...</td>\n",
       "      <td>Spectre</td>\n",
       "      <td>[A, cryptic, message, from, Bond’s, past, send...</td>\n",
       "    </tr>\n",
       "    <tr>\n",
       "      <th>3</th>\n",
       "      <td>[[, {, \", i, d, \", :, , 2, 8, ,, , \", n, a, m,...</td>\n",
       "      <td>49026</td>\n",
       "      <td>[dccomics]</td>\n",
       "      <td>[ChristianBale, MichaelCaine, GaryOldman]</td>\n",
       "      <td>[[, {, \", c, r, e, d, i, t, _, i, d, \", :, , \"...</td>\n",
       "      <td>[Following, the, death, of, District, Attorney...</td>\n",
       "      <td>The Dark Knight Rises</td>\n",
       "      <td>[Following, the, death, of, District, Attorney...</td>\n",
       "    </tr>\n",
       "    <tr>\n",
       "      <th>4</th>\n",
       "      <td>[[, {, \", i, d, \", :, , 2, 8, ,, , \", n, a, m,...</td>\n",
       "      <td>49529</td>\n",
       "      <td>[basedonnovel]</td>\n",
       "      <td>[TaylorKitsch, LynnCollins, SamanthaMorton]</td>\n",
       "      <td>[[, {, \", c, r, e, d, i, t, _, i, d, \", :, , \"...</td>\n",
       "      <td>[John, Carter, is, a, war-weary,, former, mili...</td>\n",
       "      <td>John Carter</td>\n",
       "      <td>[John, Carter, is, a, war-weary,, former, mili...</td>\n",
       "    </tr>\n",
       "  </tbody>\n",
       "</table>\n",
       "</div>"
      ],
      "text/plain": [
       "                                              genres  movie_id  \\\n",
       "0  [[, {, \", i, d, \", :, , 2, 8, ,, , \", n, a, m,...     19995   \n",
       "1  [[, {, \", i, d, \", :, , 1, 2, ,, , \", n, a, m,...       285   \n",
       "2  [[, {, \", i, d, \", :, , 2, 8, ,, , \", n, a, m,...    206647   \n",
       "3  [[, {, \", i, d, \", :, , 2, 8, ,, , \", n, a, m,...     49026   \n",
       "4  [[, {, \", i, d, \", :, , 2, 8, ,, , \", n, a, m,...     49529   \n",
       "\n",
       "         keywords                                           cast  \\\n",
       "0  [cultureclash]  [SamWorthington, ZoeSaldana, SigourneyWeaver]   \n",
       "1         [ocean]     [JohnnyDepp, OrlandoBloom, KeiraKnightley]   \n",
       "2           [spy]      [DanielCraig, ChristophWaltz, LéaSeydoux]   \n",
       "3      [dccomics]      [ChristianBale, MichaelCaine, GaryOldman]   \n",
       "4  [basedonnovel]    [TaylorKitsch, LynnCollins, SamanthaMorton]   \n",
       "\n",
       "                                                crew  \\\n",
       "0  [[, {, \", c, r, e, d, i, t, _, i, d, \", :, , \"...   \n",
       "1  [[, {, \", c, r, e, d, i, t, _, i, d, \", :, , \"...   \n",
       "2  [[, {, \", c, r, e, d, i, t, _, i, d, \", :, , \"...   \n",
       "3  [[, {, \", c, r, e, d, i, t, _, i, d, \", :, , \"...   \n",
       "4  [[, {, \", c, r, e, d, i, t, _, i, d, \", :, , \"...   \n",
       "\n",
       "                                            overview  \\\n",
       "0  [In, the, 22nd, century,, a, paraplegic, Marin...   \n",
       "1  [Captain, Barbossa,, long, believed, to, be, d...   \n",
       "2  [A, cryptic, message, from, Bond’s, past, send...   \n",
       "3  [Following, the, death, of, District, Attorney...   \n",
       "4  [John, Carter, is, a, war-weary,, former, mili...   \n",
       "\n",
       "                                      title  \\\n",
       "0                                    Avatar   \n",
       "1  Pirates of the Caribbean: At World's End   \n",
       "2                                   Spectre   \n",
       "3                     The Dark Knight Rises   \n",
       "4                               John Carter   \n",
       "\n",
       "                                                tags  \n",
       "0  [In, the, 22nd, century,, a, paraplegic, Marin...  \n",
       "1  [Captain, Barbossa,, long, believed, to, be, d...  \n",
       "2  [A, cryptic, message, from, Bond’s, past, send...  \n",
       "3  [Following, the, death, of, District, Attorney...  \n",
       "4  [John, Carter, is, a, war-weary,, former, mili...  "
      ]
     },
     "execution_count": 37,
     "metadata": {},
     "output_type": "execute_result"
    }
   ],
   "source": [
    "movies.head()"
   ]
  },
  {
   "cell_type": "code",
   "execution_count": 38,
   "id": "3cbdbea5-7b49-4f34-b028-6b4b294bdb5a",
   "metadata": {},
   "outputs": [],
   "source": [
    "new_df=movies[['movie_id','title','tags']]"
   ]
  },
  {
   "cell_type": "code",
   "execution_count": 39,
   "id": "143a20e0-105a-4cc1-8216-214dbee7db82",
   "metadata": {},
   "outputs": [
    {
     "name": "stderr",
     "output_type": "stream",
     "text": [
      "/var/folders/cm/x0n4xd4j24x422mm495mrj100000gn/T/ipykernel_1621/487797088.py:1: SettingWithCopyWarning: \n",
      "A value is trying to be set on a copy of a slice from a DataFrame.\n",
      "Try using .loc[row_indexer,col_indexer] = value instead\n",
      "\n",
      "See the caveats in the documentation: https://pandas.pydata.org/pandas-docs/stable/user_guide/indexing.html#returning-a-view-versus-a-copy\n",
      "  new_df['tags']=new_df['tags'].apply(lambda x:\" \".join(x))\n"
     ]
    }
   ],
   "source": [
    "new_df['tags']=new_df['tags'].apply(lambda x:\" \".join(x))"
   ]
  },
  {
   "cell_type": "code",
   "execution_count": 40,
   "id": "932014f3-8f69-4651-98c4-12b8c1e5169a",
   "metadata": {},
   "outputs": [],
   "source": [
    "import nltk\n",
    "from nltk.stem.porter import PorterStemmer\n",
    "ps=PorterStemmer()"
   ]
  },
  {
   "cell_type": "code",
   "execution_count": 41,
   "id": "3eccbc64-c36f-4f4c-93b5-6bd6cadc731f",
   "metadata": {},
   "outputs": [],
   "source": [
    "def stem(text):\n",
    "    y=[]\n",
    "    for i in text.split():\n",
    "      y.append(ps.stem(i)) \n",
    "    return \" \".join(y)"
   ]
  },
  {
   "cell_type": "code",
   "execution_count": 42,
   "id": "1d1fbc7c-8544-470d-9810-86fc46780bca",
   "metadata": {},
   "outputs": [
    {
     "name": "stderr",
     "output_type": "stream",
     "text": [
      "/var/folders/cm/x0n4xd4j24x422mm495mrj100000gn/T/ipykernel_1621/3514595201.py:1: SettingWithCopyWarning: \n",
      "A value is trying to be set on a copy of a slice from a DataFrame.\n",
      "Try using .loc[row_indexer,col_indexer] = value instead\n",
      "\n",
      "See the caveats in the documentation: https://pandas.pydata.org/pandas-docs/stable/user_guide/indexing.html#returning-a-view-versus-a-copy\n",
      "  new_df['tags']=new_df['tags'].apply(stem)\n"
     ]
    }
   ],
   "source": [
    "new_df['tags']=new_df['tags'].apply(stem)"
   ]
  },
  {
   "cell_type": "code",
   "execution_count": 43,
   "id": "769cb902-971f-43d3-987b-8f7809273e77",
   "metadata": {},
   "outputs": [
    {
     "data": {
      "text/plain": [
       "'in the 22nd century, a parapleg marin is dispatch to the moon pandora on a uniqu mission, but becom torn between follow order and protect an alien civilization. [ { \" i d \" : 2 8 , \" n a m e \" : \" a c t i o n \" } , { \" i d \" : 1 2 , \" n a m e \" : \" a d v e n t u r e \" } , { \" i d \" : 1 4 , \" n a m e \" : \" f a n t a s y \" } , { \" i d \" : 8 7 8 , \" n a m e \" : \" s c i e n c e f i c t i o n \" } ] cultureclash samworthington zoesaldana sigourneyweav [ { \" c r e d i t _ i d \" : \" 5 2 f e 4 8 0 0 9 2 5 1 4 1 6 c 7 5 0 a c a 2 3 \" , \" d e p a r t m e n t \" : \" e d i t i n g \" , \" g e n d e r \" : 0 , \" i d \" : 1 7 2 1 , \" j o b \" : \" e d i t o r \" , \" n a m e \" : \" s t e p h e n e . r i v k i n \" } , { \" c r e d i t _ i d \" : \" 5 3 9 c 4 7 e c c 3 a 3 6 8 1 0 e 3 0 0 1 f 8 7 \" , \" d e p a r t m e n t \" : \" a r t \" , \" g e n d e r \" : 2 , \" i d \" : 4 9 6 , \" j o b \" : \" p r o d u c t i o n d e s i g n \" , \" n a m e \" : \" r i c k c a r t e r \" } , { \" c r e d i t _ i d \" : \" 5 4 4 9 1 c 8 9 c 3 a 3 6 8 0 f b 4 0 0 1 c f 7 \" , \" d e p a r t m e n t \" : \" s o u n d \" , \" g e n d e r \" : 0 , \" i d \" : 9 0 0 , \" j o b \" : \" s o u n d d e s i g n e r \" , \" n a m e \" : \" c h r i s t o p h e r b o y e s \" } , { \" c r e d i t _ i d \" : \" 5 4 4 9 1 c b 7 0 e 0 a 2 6 7 4 8 0 0 0 1 b d 0 \" , \" d e p a r t m e n t \" : \" s o u n d \" , \" g e n d e r \" : 0 , \" i d \" : 9 0 0 , \" j o b \" : \" s u p e r v i s i n g s o u n d e d i t o r \" , \" n a m e \" : \" c h r i s t o p h e r b o y e s \" } , { \" c r e d i t _ i d \" : \" 5 3 9 c 4 a 4 c c 3 a 3 6 8 1 0 c 9 0 0 2 1 0 1 \" , \" d e p a r t m e n t \" : \" p r o d u c t i o n \" , \" g e n d e r \" : 1 , \" i d \" : 1 2 6 2 , \" j o b \" : \" c a s t i n g \" , \" n a m e \" : \" m a l i f i n n \" } , { \" c r e d i t _ i d \" : \" 5 5 4 4 e e 3 b 9 2 5 1 4 1 4 9 9 f 0 0 0 8 f c \" , \" d e p a r t m e n t \" : \" s o u n d \" , \" g e n d e r \" : 2 , \" i d \" : 1 7 2 9 , \" j o b \" : \" o r i g i n a l m u s i c c o m p o s e r \" , \" n a m e \" : \" j a m e s h o r n e r \" } , { \" c r e d i t _ i d \" : \" 5 2 f e 4 8 0 0 9 2 5 1 4 1 6 c 7 5 0 a c 9 c 3 \" , \" d e p a r t m e n t \" : \" d i r e c t i n g \" , \" g e n d e r \" : 2 , \" i d \" : 2 7 1 0 , \" j o b \" : \" d i r e c t o r \" , \" n a m e \" : \" j a m e s c a m e r o n \" } , { \" c r e d i t _ i d \" : \" 5 2 f e 4 8 0 0 9 2 5 1 4 1 6 c 7 5 0 a c 9 d 9 \" , \" d e p a r t m e n t \" : \" w r i t i n g \" , \" g e n d e r \" : 2 , \" i d \" : 2 7 1 0 , \" j o b \" : \" w r i t e r \" , \" n a m e \" : \" j a m e s c a m e r o n \" } , { \" c r e d i t _ i d \" : \" 5 2 f e 4 8 0 0 9 2 5 1 4 1 6 c 7 5 0 a c a 1 7 \" , \" d e p a r t m e n t \" : \" e d i t i n g \" , \" g e n d e r \" : 2 , \" i d \" : 2 7 1 0 , \" j o b \" : \" e d i t o r \" , \" n a m e \" : \" j a m e s c a m e r o n \" } , { \" c r e d i t _ i d \" : \" 5 2 f e 4 8 0 0 9 2 5 1 4 1 6 c 7 5 0 a c a 2 9 \" , \" d e p a r t m e n t \" : \" p r o d u c t i o n \" , \" g e n d e r \" : 2 , \" i d \" : 2 7 1 0 , \" j o b \" : \" p r o d u c e r \" , \" n a m e \" : \" j a m e s c a m e r o n \" } , { \" c r e d i t _ i d \" : \" 5 2 f e 4 8 0 0 9 2 5 1 4 1 6 c 7 5 0 a c a 3 f \" , \" d e p a r t m e n t \" : \" w r i t i n g \" , \" g e n d e r \" : 2 , \" i d \" : 2 7 1 0 , \" j o b \" : \" s c r e e n p l a y \" , \" n a m e \" : \" j a m e s c a m e r o n \" } , { \" c r e d i t _ i d \" : \" 5 3 9 c 4 9 8 7 c 3 a 3 6 8 1 0 b a 0 0 2 1 a 4 \" , \" d e p a r t m e n t \" : \" a r t \" , \" g e n d e r \" : 2 , \" i d \" : 7 2 3 6 , \" j o b \" : \" a r t d i r e c t i o n \" , \" n a m e \" : \" a n d r e w m e n z i e s \" } , { \" c r e d i t _ i d \" : \" 5 4 9 5 9 8 c 3 c 3 a 3 6 8 6 a e 9 0 0 4 3 8 3 \" , \" d e p a r t m e n t \" : \" v i s u a l e f f e c t s \" , \" g e n d e r \" : 0 , \" i d \" : 6 6 9 0 , \" j o b \" : \" v i s u a l e f f e c t s p r o d u c e r \" , \" n a m e \" : \" j i l l b r o o k s \" } , { \" c r e d i t _ i d \" : \" 5 2 f e 4 8 0 0 9 2 5 1 4 1 6 c 7 5 0 a c a 4 b \" , \" d e p a r t m e n t \" : \" p r o d u c t i o n \" , \" g e n d e r \" : 1 , \" i d \" : 6 3 4 7 , \" j o b \" : \" c a s t i n g \" , \" n a m e \" : \" m a r g e r y s i m k i n \" } , { \" c r e d i t _ i d \" : \" 5 7 0 b 6 f 4 1 9 2 5 1 4 1 7 d a 7 0 0 3 2 f e \" , \" d e p a r t m e n t \" : \" a r t \" , \" g e n d e r \" : 2 , \" i d \" : 6 8 7 8 , \" j o b \" : \" s u p e r v i s i n g a r t d i r e c t o r \" , \" n a m e \" : \" k e v i n i s h i o k a \" } , { \" c r e d i t _ i d \" : \" 5 4 9 5 a 0 f a c 3 a 3 6 8 6 a e 9 0 0 4 4 6 8 \" , \" d e p a r t m e n t \" : \" s o u n d \" , \" g e n d e r \" : 0 , \" i d \" : 6 8 8 3 , \" j o b \" : \" m u s i c e d i t o r \" , \" n a m e \" : \" d i c k b e r n s t e i n \" } , { \" c r e d i t _ i d \" : \" 5 4 9 5 9 7 0 6 c 3 a 3 6 8 6 a f 3 0 0 3 e 8 1 \" , \" d e p a r t m e n t \" : \" s o u n d \" , \" g e n d e r \" : 0 , \" i d \" : 8 1 5 9 , \" j o b \" : \" s o u n d e f f e c t s e d i t o r \" , \" n a m e \" : \" s h a n n o n m i l l s \" } , { \" c r e d i t _ i d \" : \" 5 4 4 9 1 d 5 8 c 3 a 3 6 8 0 f b 1 0 0 1 c c b \" , \" d e p a r t m e n t \" : \" s o u n d \" , \" g e n d e r \" : 0 , \" i d \" : 8 1 6 0 , \" j o b \" : \" f o l e y \" , \" n a m e \" : \" d e n n i e t h o r p e \" } , { \" c r e d i t _ i d \" : \" 5 4 4 9 1 d 6 c c 3 a 3 6 8 0 f a 5 0 0 1 b 2 c \" , \" d e p a r t m e n t \" : \" s o u n d \" , \" g e n d e r \" : 0 , \" i d \" : 8 1 6 3 , \" j o b \" : \" f o l e y \" , \" n a m e \" : \" j a n a v a n c e \" } , { \" c r e d i t _ i d \" : \" 5 2 f e 4 8 0 0 9 2 5 1 4 1 6 c 7 5 0 a c a 5 7 \" , \" d e p a r t m e n t \" : \" c o s t u m e & m a k e - u p \" , \" g e n d e r \" : 1 , \" i d \" : 8 5 2 7 , \" j o b \" : \" c o s t u m e d e s i g n \" , \" n a m e \" : \" d e b o r a h l y n n s c o t t \" } , { \" c r e d i t _ i d \" : \" 5 2 f e 4 8 0 0 9 2 5 1 4 1 6 c 7 5 0 a c a 2 f \" , \" d e p a r t m e n t \" : \" p r o d u c t i o n \" , \" g e n d e r \" : 2 , \" i d \" : 8 5 2 9 , \" j o b \" : \" p r o d u c e r \" , \" n a m e \" : \" j o n l a n d a u \" } , { \" c r e d i t _ i d \" : \" 5 3 9 c 4 9 3 7 c 3 a 3 6 8 1 0 b a 0 0 2 1 9 4 \" , \" d e p a r t m e n t \" : \" a r t \" , \" g e n d e r \" : 0 , \" i d \" : 9 6 1 8 , \" j o b \" : \" a r t d i r e c t i o n \" , \" n a m e \" : \" s e a n h a w o r t h \" } , { \" c r e d i t _ i d \" : \" 5 3 9 c 4 9 b 6 c 3 a 3 6 8 1 0 c 1 0 0 2 0 e 6 \" , \" d e p a r t m e n t \" : \" a r t \" , \" g e n d e r \" : 1 , \" i d \" : 1 2 6 5 3 , \" j o b \" : \" s e t d e c o r a t i o n \" , \" n a m e \" : \" k i m s i n c l a i r \" } , { \" c r e d i t _ i d \" : \" 5 7 0 b 6 f 2 f 9 2 5 1 4 1 3 a 0 e 0 0 0 2 0 d \" , \" d e p a r t m e n t \" : \" a r t \" , \" g e n d e r \" : 1 , \" i d \" : 1 2 6 5 3 , \" j o b \" : \" s u p e r v i s i n g a r t d i r e c t o r \" , \" n a m e \" : \" k i m s i n c l a i r \" } , { \" c r e d i t _ i d \" : \" 5 4 4 9 1 a 6 c 0 e 0 a 2 6 7 4 8 c 0 0 1 b 1 9 \" , \" d e p a r t m e n t \" : \" a r t \" , \" g e n d e r \" : 2 , \" i d \" : 1 4 3 5 0 , \" j o b \" : \" s e t d e s i g n e r \" , \" n a m e \" : \" r i c h a r d f . m a y s \" } , { \" c r e d i t _ i d \" : \" 5 6 9 2 8 c f 4 c 3 a 3 6 8 4 c f f 0 0 2 5 c 4 \" , \" d e p a r t m e n t \" : \" p r o d u c t i o n \" , \" g e n d e r \" : 1 , \" i d \" : 2 0 2 9 4 , \" j o b \" : \" e x e c u t i v e p r o d u c e r \" , \" n a m e \" : \" l a e t a k a l o g r i d i s \" } , { \" c r e d i t _ i d \" : \" 5 2 f e 4 8 0 0 9 2 5 1 4 1 6 c 7 5 0 a c a 5 1 \" , \" d e p a r t m e n t \" : \" c o s t u m e & m a k e - u p \" , \" g e n d e r \" : 0 , \" i d \" : 1 7 6 7 5 , \" j o b \" : \" c o s t u m e d e s i g n \" , \" n a m e \" : \" m a y e s c . r u b e o \" } , { \" c r e d i t _ i d \" : \" 5 2 f e 4 8 0 0 9 2 5 1 4 1 6 c 7 5 0 a c a 1 1 \" , \" d e p a r t m e n t \" : \" c a m e r a \" , \" g e n d e r \" : 2 , \" i d \" : 1 8 2 6 5 , \" j o b \" : \" d i r e c t o r o f p h o t o g r a p h y \" , \" n a m e \" : \" m a u r o f i o r e \" } , { \" c r e d i t _ i d \" : \" 5 4 4 9 1 9 4 d 0 e 0 a 2 6 7 4 8 f 0 0 1 b 3 9 \" , \" d e p a r t m e n t \" : \" a r t \" , \" g e n d e r \" : 0 , \" i d \" : 4 2 2 8 1 , \" j o b \" : \" s e t d e s i g n e r \" , \" n a m e \" : \" s c o t t h e r b e r t s o n \" } , { \" c r e d i t _ i d \" : \" 5 2 f e 4 8 0 0 9 2 5 1 4 1 6 c 7 5 0 a c a 0 5 \" , \" d e p a r t m e n t \" : \" c r e w \" , \" g e n d e r \" : 0 , \" i d \" : 4 2 2 8 8 , \" j o b \" : \" s t u n t s \" , \" n a m e \" : \" w o o d y s c h u l t z \" } , { \" c r e d i t _ i d \" : \" 5 5 9 2 a e f b 9 2 5 1 4 1 5 2 d e 0 0 1 0 f 5 \" , \" d e p a r t m e n t \" : \" c o s t u m e & m a k e - u p \" , \" g e n d e r \" : 0 , \" i d \" : 2 9 0 6 7 , \" j o b \" : \" m a k e u p a r t i s t \" , \" n a m e \" : \" l i n d a d e v e t t a \" } , { \" c r e d i t _ i d \" : \" 5 5 9 2 a f a 4 9 2 5 1 4 1 5 2 d e 0 0 1 1 2 c \" , \" d e p a r t m e n t \" : \" c o s t u m e & m a k e - u p \" , \" g e n d e r \" : 0 , \" i d \" : 2 9 0 6 7 , \" j o b \" : \" h a i r s t y l i s t \" , \" n a m e \" : \" l i n d a d e v e t t a \" } , { \" c r e d i t _ i d \" : \" 5 4 9 5 9 e d 5 9 2 5 1 4 1 3 0 f c 0 0 2 e 5 d \" , \" d e p a r t m e n t \" : \" c a m e r a \" , \" g e n d e r \" : 2 , \" i d \" : 3 3 3 0 2 , \" j o b \" : \" c a m e r a o p e r a t o r \" , \" n a m e \" : \" r i c h a r d b l u c k \" } , { \" c r e d i t _ i d \" : \" 5 3 9 c 4 8 9 1 c 3 a 3 6 8 1 0 b a 0 0 2 1 4 7 \" , \" d e p a r t m e n t \" : \" a r t \" , \" g e n d e r \" : 2 , \" i d \" : 3 3 3 0 3 , \" j o b \" : \" a r t d i r e c t i o n \" , \" n a m e \" : \" s i m o n b r i g h t \" } , { \" c r e d i t _ i d \" : \" 5 4 9 5 9 c 0 6 9 2 5 1 4 1 7 a 8 1 0 0 1 f 3 a \" , \" d e p a r t m e n t \" : \" v i s u a l e f f e c t s \" , \" g e n d e r \" : 0 , \" i d \" : 1 1 3 1 4 5 , \" j o b \" : \" v i s u a l e f f e c t s s u p e r v i s o r \" , \" n a m e \" : \" r i c h a r d m a r t i n \" } , { \" c r e d i t _ i d \" : \" 5 4 9 5 9 a 0 d c 3 a 3 6 8 0 f f 5 0 0 2 c 8 d \" , \" d e p a r t m e n t \" : \" c r e w \" , \" g e n d e r \" : 2 , \" i d \" : 5 8 1 8 8 , \" j o b \" : \" v i s u a l e f f e c t s e d i t o r \" , \" n a m e \" : \" s t e v e r . m o o r e \" } , { \" c r e d i t _ i d \" : \" 5 2 f e 4 8 0 0 9 2 5 1 4 1 6 c 7 5 0 a c a 1 d \" , \" d e p a r t m e n t \" : \" e d i t i n g \" , \" g e n d e r \" : 2 , \" i d \" : 5 8 8 7 1 , \" j o b \" : \" e d i t o r \" , \" n a m e \" : \" j o h n r e f o u a \" } , { \" c r e d i t _ i d \" : \" 5 4 4 9 1 a 4 d c 3 a 3 6 8 0 f c 3 0 0 1 8 c a \" , \" d e p a r t m e n t \" : \" a r t \" , \" g e n d e r \" : 0 , \" i d \" : 9 2 3 5 9 , \" j o b \" : \" s e t d e s i g n e r \" , \" n a m e \" : \" k a r l j . m a r t i n \" } , { \" c r e d i t _ i d \" : \" 5 2 f e 4 8 0 0 9 2 5 1 4 1 6 c 7 5 0 a c a 3 5 \" , \" d e p a r t m e n t \" : \" c a m e r a \" , \" g e n d e r \" : 1 , \" i d \" : 7 2 2 0 1 , \" j o b \" : \" d i r e c t o r o f p h o t o g r a p h y \" , \" n a m e \" : \" c h i l i n g l i n \" } , { \" c r e d i t _ i d \" : \" 5 2 f e 4 8 0 0 9 2 5 1 4 1 6 c 7 5 0 a c 9 f f \" , \" d e p a r t m e n t \" : \" c r e w \" , \" g e n d e r \" : 0 , \" i d \" : 8 9 7 1 4 , \" j o b \" : \" s t u n t s \" , \" n a m e \" : \" i l r a m c h o i \" } , { \" c r e d i t _ i d \" : \" 5 4 9 5 9 c 5 2 9 2 5 1 4 1 6 e 2 b 0 0 4 3 9 4 \" , \" d e p a r t m e n t \" : \" v i s u a l e f f e c t s \" , \" g e n d e r \" : 2 , \" i d \" : 9 3 2 1 4 , \" j o b \" : \" v i s u a l e f f e c t s s u p e r v i s o r \" , \" n a m e \" : \" s t e v e n q u a l e \" } , { \" c r e d i t _ i d \" : \" 5 4 4 9 1 e d f 0 e 0 a 2 6 7 4 8 9 0 0 1 c 3 7 \" , \" d e p a r t m e n t \" : \" c r e w \" , \" g e n d e r \" : 1 , \" i d \" : 1 2 2 6 0 7 , \" j o b \" : \" d i a l e c t c o a c h \" , \" n a m e \" : \" c a r l a m e y e r \" } , { \" c r e d i t _ i d \" : \" 5 3 9 c 4 8 5 b c 3 a 3 6 8 6 5 3 d 0 0 1 a 3 a \" , \" d e p a r t m e n t \" : \" a r t \" , \" g e n d e r \" : 2 , \" i d \" : 1 3 2 5 8 5 , \" j o b \" : \" a r t d i r e c t i o n \" , \" n a m e \" : \" n i c k b a s s e t t \" } , { \" c r e d i t _ i d \" : \" 5 3 9 c 4 9 0 3 c 3 a 3 6 8 6 5 3 d 0 0 1 a 7 4 \" , \" d e p a r t m e n t \" : \" a r t \" , \" g e n d e r \" : 0 , \" i d \" : 1 3 2 5 9 6 , \" j o b \" : \" a r t d i r e c t i o n \" , \" n a m e \" : \" j i l l c o r m a c k \" } , { \" c r e d i t _ i d \" : \" 5 3 9 c 4 9 6 7 c 3 a 3 6 8 6 5 3 d 0 0 1 a 9 4 \" , \" d e p a r t m e n t \" : \" a r t \" , \" g e n d e r \" : 0 , \" i d \" : 1 3 2 6 0 4 , \" j o b \" : \" a r t d i r e c t i o n \" , \" n a m e \" : \" a n d y m c l a r e n \" } , { \" c r e d i t _ i d \" : \" 5 2 f e 4 8 0 0 9 2 5 1 4 1 6 c 7 5 0 a c a 4 5 \" , \" d e p a r t m e n t \" : \" c r e w \" , \" g e n d e r \" : 0 , \" i d \" : 2 3 6 6 9 6 , \" j o b \" : \" m o t i o n c a p t u r e a r t i s t \" , \" n a m e \" : \" t e r r y n o t a r y \" } , { \" c r e d i t _ i d \" : \" 5 4 9 5 9 e 0 2 c 3 a 3 6 8 0 f c 6 0 0 2 7 d 2 \" , \" d e p a r t m e n t \" : \" c r e w \" , \" g e n d e r \" : 2 , \" i d \" : 9 5 6 1 9 8 , \" j o b \" : \" s t u n t c o o r d i n a t o r \" , \" n a m e \" : \" g a r r e t t w a r r e n \" } , { \" c r e d i t _ i d \" : \" 5 4 9 5 9 c a 3 c 3 a 3 6 8 6 a e 3 0 0 4 3 8 c \" , \" d e p a r t m e n t \" : \" v i s u a l e f f e c t s \" , \" g e n d e r \" : 2 , \" i d \" : 9 5 7 8 7 4 , \" j o b \" : \" v i s u a l e f f e c t s s u p e r v i s o r \" , \" n a m e \" : \" j o n a t h a n r o t h b a r t \" } , { \" c r e d i t _ i d \" : \" 5 7 0 b 6 f 5 1 9 2 5 1 4 1 2 c 7 4 0 0 1 b 2 f \" , \" d e p a r t m e n t \" : \" a r t \" , \" g e n d e r \" : 0 , \" i d \" : 9 5 7 8 8 9 , \" j o b \" : \" s u p e r v i s i n g a r t d i r e c t o r \" , \" n a m e \" : \" s t e f a n d e c h a n t \" } , { \" c r e d i t _ i d \" : \" 5 7 0 b 6 f 6 2 c 3 a 3 6 8 0 b 7 7 0 0 7 4 6 0 \" , \" d e p a r t m e n t \" : \" a r t \" , \" g e n d e r \" : 2 , \" i d \" : 9 5 9 5 5 5 , \" j o b \" : \" s u p e r v i s i n g a r t d i r e c t o r \" , \" n a m e \" : \" t o d d c h e r n i a w s k y \" } , { \" c r e d i t _ i d \" : \" 5 3 9 c 4 a 3 a c 3 a 3 6 8 1 0 d a 0 0 2 1 c c \" , \" d e p a r t m e n t \" : \" p r o d u c t i o n \" , \" g e n d e r \" : 0 , \" i d \" : 1 0 1 6 1 7 7 , \" j o b \" : \" c a s t i n g \" , \" n a m e \" : \" m i r a n d a r i v e r s \" } , { \" c r e d i t _ i d \" : \" 5 3 9 c 4 8 2 c c 3 a 3 6 8 1 0 c 1 0 0 2 0 6 2 \" , \" d e p a r t m e n t \" : \" a r t \" , \" g e n d e r \" : 0 , \" i d \" : 1 0 3 2 5 3 6 , \" j o b \" : \" p r o d u c t i o n d e s i g n \" , \" n a m e \" : \" r o b e r t s t r o m b e r g \" } , { \" c r e d i t _ i d \" : \" 5 3 9 c 4 b 6 5 c 3 a 3 6 8 1 0 c 9 0 0 2 1 2 5 \" , \" d e p a r t m e n t \" : \" c o s t u m e & m a k e - u p \" , \" g e n d e r \" : 2 , \" i d \" : 1 0 7 1 6 8 0 , \" j o b \" : \" c o s t u m e d e s i g n \" , \" n a m e \" : \" j o h n h a r d i n g \" } , { \" c r e d i t _ i d \" : \" 5 4 9 5 9 e 6 6 9 2 5 1 4 1 3 0 f c 0 0 2 e 4 e \" , \" d e p a r t m e n t \" : \" c a m e r a \" , \" g e n d e r \" : 0 , \" i d \" : 1 1 7 7 3 6 4 , \" j o b \" : \" s t e a d i c a m o p e r a t o r \" , \" n a m e \" : \" r o b e r t o d e a n g e l i s \" } , { \" c r e d i t _ i d \" : \" 5 3 9 c 4 9 f 1 c 3 a 3 6 8 6 5 3 d 0 0 1 a a c \" , \" d e p a r t m e n t \" : \" c o s t u m e & m a k e - u p \" , \" g e n d e r \" : 2 , \" i d \" : 1 2 0 2 8 5 0 , \" j o b \" : \" m a k e u p d e p a r t m e n t h e a d \" , \" n a m e \" : \" m i k e s m i t h s o n \" } , { \" c r e d i t _ i d \" : \" 5 4 9 5 9 9 9 e c 3 a 3 6 8 6 a e 1 0 0 4 6 0 c \" , \" d e p a r t m e n t \" : \" v i s u a l e f f e c t s \" , \" g e n d e r \" : 0 , \" i d \" : 1 2 0 4 6 6 8 , \" j o b \" : \" v i s u a l e f f e c t s p r o d u c e r \" , \" n a m e \" : \" a l a i n l a l a n n e \" } , { \" c r e d i t _ i d \" : \" 5 4 9 5 9 c d f c 3 a 3 6 8 1 1 5 3 0 0 2 7 2 9 \" , \" d e p a r t m e n t \" : \" v i s u a l e f f e c t s \" , \" g e n d e r \" : 0 , \" i d \" : 1 2 0 6 4 1 0 , \" j o b \" : \" v i s u a l e f f e c t s s u p e r v i s o r \" , \" n a m e \" : \" l u c a s s a l t o n \" } , { \" c r e d i t _ i d \" : \" 5 4 9 5 9 6 2 3 9 2 5 1 4 1 7 a 8 1 0 0 1 e a e \" , \" d e p a r t m e n t \" : \" c r e w \" , \" g e n d e r \" : 0 , \" i d \" : 1 2 3 4 2 6 6 , \" j o b \" : \" p o s t p r o d u c t i o n s u p e r v i s o r \" , \" n a m e \" : \" j a n a c e t a s h j i a n \" } , { \" c r e d i t _ i d \" : \" 5 4 9 5 9 c 8 5 9 2 5 1 4 1 6 e 1 e 0 0 3 e f e \" , \" d e p a r t m e n t \" : \" v i s u a l e f f e c t s \" , \" g e n d e r \" : 0 , \" i d \" : 1 2 7 1 9 3 2 , \" j o b \" : \" v i s u a l e f f e c t s s u p e r v i s o r \" , \" n a m e \" : \" s t e p h e n r o s e n b a u m \" } , { \" c r e d i t _ i d \" : \" 5 5 9 2 a f 2 8 c 3 a 3 6 8 7 7 5 a 0 0 1 0 5 f \" , \" d e p a r t m e n t \" : \" c o s t u m e & m a k e - u p \" , \" g e n d e r \" : 0 , \" i d \" : 1 3 1 0 0 6 4 , \" j o b \" : \" m a k e u p a r t i s t \" , \" n a m e \" : \" f r a n k i e k a r e n a \" } , { \" c r e d i t _ i d \" : \" 5 3 9 c 4 a d f c 3 a 3 6 8 1 0 e 3 0 0 2 0 3 b \" , \" d e p a r t m e n t \" : \" c o s t u m e & m a k e - u p \" , \" g e n d e r \" : 1 , \" i d \" : 1 3 1 9 8 4 4 , \" j o b \" : \" c o s t u m e s u p e r v i s o r \" , \" n a m e \" : \" l i s a l o v a a s \" } , { \" c r e d i t _ i d \" : \" 5 4 9 5 9 b 5 7 9 2 5 1 4 1 6 e 2 b 0 0 4 3 7 1 \" , \" d e p a r t m e n t \" : \" v i s u a l e f f e c t s \" , \" g e n d e r \" : 0 , \" i d \" : 1 3 2 7 0 2 8 , \" j o b \" : \" v i s u a l e f f e c t s s u p e r v i s o r \" , \" n a m e \" : \" j o n a t h a n f a w k n e r \" } , { \" c r e d i t _ i d \" : \" 5 3 9 c 4 8 a 7 c 3 a 3 6 8 1 0 b 5 0 0 1 f a 7 \" , \" d e p a r t m e n t \" : \" a r t \" , \" g e n d e r \" : 0 , \" i d \" : 1 3 3 0 5 6 1 , \" j o b \" : \" a r t d i r e c t i o n \" , \" n a m e \" : \" r o b e r t b a v i n \" } , { \" c r e d i t _ i d \" : \" 5 3 9 c 4 a 7 1 c 3 a 3 6 8 1 0 d a 0 0 2 1 e 0 \" , \" d e p a r t m e n t \" : \" c o s t u m e & m a k e - u p \" , \" g e n d e r \" : 0 , \" i d \" : 1 3 3 0 5 6 7 , \" j o b \" : \" c o s t u m e s u p e r v i s o r \" , \" n a m e \" : \" a n t h o n y a l m a r a z \" } , { \" c r e d i t _ i d \" : \" 5 3 9 c 4 a 8 a c 3 a 3 6 8 1 0 b a 0 0 2 1 e 4 \" , \" d e p a r t m e n t \" : \" c o s t u m e & m a k e - u p \" , \" g e n d e r \" : 0 , \" i d \" : 1 3 3 0 5 7 0 , \" j o b \" : \" c o s t u m e s u p e r v i s o r \" , \" n a m e \" : \" c a r o l y n m . f e n t o n \" } , { \" c r e d i t _ i d \" : \" 5 3 9 c 4 a b 6 c 3 a 3 6 8 1 0 d a 0 0 2 1 f 0 \" , \" d e p a r t m e n t \" : \" c o s t u m e & m a k e - u p \" , \" g e n d e r \" : 0 , \" i d \" : 1 3 3 0 5 7 4 , \" j o b \" : \" c o s t u m e s u p e r v i s o r \" , \" n a m e \" : \" b e t h k o e n i g s b e r g \" } , { \" c r e d i t _ i d \" : \" 5 4 4 9 1 a b 7 0 e 0 a 2 6 7 4 8 0 0 0 1 b a 2 \" , \" d e p a r t m e n t \" : \" a r t \" , \" g e n d e r \" : 0 , \" i d \" : 1 3 3 6 1 9 1 , \" j o b \" : \" s e t d e s i g n e r \" , \" n a m e \" : \" s a m p a g e \" } , { \" c r e d i t _ i d \" : \" 5 4 4 9 1 9 d 9 c 3 a 3 6 8 0 f c 3 0 0 1 8 b d \" , \" d e p a r t m e n t \" : \" a r t \" , \" g e n d e r \" : 0 , \" i d \" : 1 3 3 9 4 4 1 , \" j o b \" : \" s e t d e s i g n e r \" , \" n a m e \" : \" t e x k a d o n a g a \" } , { \" c r e d i t _ i d \" : \" 5 4 4 9 1 c f 5 0 e 0 a 2 6 7 4 8 3 0 0 1 b 0 c \" , \" d e p a r t m e n t \" : \" e d i t i n g \" , \" g e n d e r \" : 0 , \" i d \" : 1 3 5 2 4 2 2 , \" j o b \" : \" d i a l o g u e e d i t o r \" , \" n a m e \" : \" k i m f o s c a t o \" } , { \" c r e d i t _ i d \" : \" 5 4 4 9 1 9 f 4 0 e 0 a 2 6 7 4 8 c 0 0 1 b 0 9 \" , \" d e p a r t m e n t \" : \" a r t \" , \" g e n d e r \" : 0 , \" i d \" : 1 3 5 2 9 6 2 , \" j o b \" : \" s e t d e s i g n e r \" , \" n a m e \" : \" t a m m y s . l e e \" } , { \" c r e d i t _ i d \" : \" 5 4 9 5 a 1 1 5 c 3 a 3 6 8 0 f f 5 0 0 2 d 7 1 \" , \" d e p a r t m e n t \" : \" c r e w \" , \" g e n d e r \" : 0 , \" i d \" : 1 3 5 7 0 7 0 , \" j o b \" : \" t r a n s p o r t a t i o n c o o r d i n a t o r \" , \" n a m e \" : \" d e n n y c a i r a \" } , { \" c r e d i t _ i d \" : \" 5 4 9 5 a 1 2 f 9 2 5 1 4 1 3 0 f c 0 0 2 e 9 4 \" , \" d e p a r t m e n t \" : \" c r e w \" , \" g e n d e r \" : 0 , \" i d \" : 1 3 5 7 0 7 1 , \" j o b \" : \" t r a n s p o r t a t i o n c o o r d i n a t o r \" , \" n a m e \" : \" j a m e s w a i t k u s \" } , { \" c r e d i t _ i d \" : \" 5 4 9 5 9 7 6 f c 3 a 3 6 8 1 1 5 3 0 0 2 6 b 0 \" , \" d e p a r t m e n t \" : \" s o u n d \" , \" g e n d e r \" : 0 , \" i d \" : 1 3 6 0 1 0 3 , \" j o b \" : \" s u p e r v i s i n g s o u n d e d i t o r \" , \" n a m e \" : \" a d d i s o n t e a g u e \" } , { \" c r e d i t _ i d \" : \" 5 4 4 9 1 8 3 7 c 3 a 3 6 8 0 f b 1 0 0 1 c 5 a \" , \" d e p a r t m e n t \" : \" a r t \" , \" g e n d e r \" : 2 , \" i d \" : 1 3 7 6 8 8 7 , \" j o b \" : \" s e t d e s i g n e r \" , \" n a m e \" : \" c . s c o t t b a k e r \" } , { \" c r e d i t _ i d \" : \" 5 4 4 9 1 8 7 8 c 3 a 3 6 8 0 f b 4 0 0 1 c 9 d \" , \" d e p a r t m e n t \" : \" a r t \" , \" g e n d e r \" : 0 , \" i d \" : 1 3 7 6 8 8 8 , \" j o b \" : \" s e t d e s i g n e r \" , \" n a m e \" : \" l u k e c a s k a \" } , { \" c r e d i t _ i d \" : \" 5 4 4 9 1 8 d a c 3 a 3 6 8 0 f a 5 0 0 1 a e 0 \" , \" d e p a r t m e n t \" : \" a r t \" , \" g e n d e r \" : 0 , \" i d \" : 1 3 7 6 8 8 9 , \" j o b \" : \" s e t d e s i g n e r \" , \" n a m e \" : \" d a v i d c h o w \" } , { \" c r e d i t _ i d \" : \" 5 4 4 9 1 9 1 1 0 e 0 a 2 6 7 4 8 6 0 0 1 b 6 8 \" , \" d e p a r t m e n t \" : \" a r t \" , \" g e n d e r \" : 0 , \" i d \" : 1 3 7 6 8 9 0 , \" j o b \" : \" s e t d e s i g n e r \" , \" n a m e \" : \" j o n a t h a n d y e r \" } , { \" c r e d i t _ i d \" : \" 5 4 4 9 1 9 6 7 c 3 a 3 6 8 0 f a a 0 0 1 b 5 e \" , \" d e p a r t m e n t \" : \" a r t \" , \" g e n d e r \" : 0 , \" i d \" : 1 3 7 6 8 9 1 , \" j o b \" : \" s e t d e s i g n e r \" , \" n a m e \" : \" j o s e p h h i u r a \" } , { \" c r e d i t _ i d \" : \" 5 4 4 9 1 9 9 7 c 3 a 3 6 8 0 f b 1 0 0 1 c 8 a \" , \" d e p a r t m e n t \" : \" a r t \" , \" g e n d e r \" : 0 , \" i d \" : 1 3 7 6 8 9 2 , \" j o b \" : \" a r t d e p a r t m e n t c o o r d i n a t o r \" , \" n a m e \" : \" r e b e c c a j e l l i e \" } , { \" c r e d i t _ i d \" : \" 5 4 4 9 1 9 b a 0 e 0 a 2 6 7 4 8 f 0 0 1 b 4 2 \" , \" d e p a r t m e n t \" : \" a r t \" , \" g e n d e r \" : 0 , \" i d \" : 1 3 7 6 8 9 3 , \" j o b \" : \" s e t d e s i g n e r \" , \" n a m e \" : \" r o b e r t a n d r e w j o h n s o n \" } , { \" c r e d i t _ i d \" : \" 5 4 4 9 1 b 1 d c 3 a 3 6 8 0 f a a 0 0 1 b 8 c \" , \" d e p a r t m e n t \" : \" a r t \" , \" g e n d e r \" : 0 , \" i d \" : 1 3 7 6 8 9 5 , \" j o b \" : \" a s s i s t a n t a r t d i r e c t o r \" , \" n a m e \" : \" m i k e s t a s s i \" } , { \" c r e d i t _ i d \" : \" 5 4 4 9 1 b 7 9 c 3 a 3 6 8 0 f b b 0 0 1 8 2 6 \" , \" d e p a r t m e n t \" : \" a r t \" , \" g e n d e r \" : 0 , \" i d \" : 1 3 7 6 8 9 7 , \" j o b \" : \" c o n s t r u c t i o n c o o r d i n a t o r \" , \" n a m e \" : \" j o h n v i l l a r i n o \" } , { \" c r e d i t _ i d \" : \" 5 4 4 9 1 b a e c 3 a 3 6 8 0 f b 4 0 0 1 c e 6 \" , \" d e p a r t m e n t \" : \" a r t \" , \" g e n d e r \" : 2 , \" i d \" : 1 3 7 6 8 9 8 , \" j o b \" : \" a s s i s t a n t a r t d i r e c t o r \" , \" n a m e \" : \" j e f f r e y w i s n i e w s k i \" } , { \" c r e d i t _ i d \" : \" 5 4 4 9 1 d 2 f c 3 a 3 6 8 0 f b 4 0 0 1 d 0 7 \" , \" d e p a r t m e n t \" : \" e d i t i n g \" , \" g e n d e r \" : 0 , \" i d \" : 1 3 7 6 8 9 9 , \" j o b \" : \" d i a l o g u e e d i t o r \" , \" n a m e \" : \" c h e r y l n a r d i \" } , { \" c r e d i t _ i d \" : \" 5 4 4 9 1 d 8 6 c 3 a 3 6 8 0 f a 5 0 0 1 b 2 f \" , \" d e p a r t m e n t \" : \" e d i t i n g \" , \" g e n d e r \" : 0 , \" i d \" : 1 3 7 6 9 0 1 , \" j o b \" : \" d i a l o g u e e d i t o r \" , \" n a m e \" : \" m a r s h a l l w i n n \" } , { \" c r e d i t _ i d \" : \" 5 4 4 9 1 d 9 d c 3 a 3 6 8 0 f a a 0 0 1 b b 0 \" , \" d e p a r t m e n t \" : \" s o u n d \" , \" g e n d e r \" : 0 , \" i d \" : 1 3 7 6 9 0 2 , \" j o b \" : \" s u p e r v i s i n g s o u n d e d i t o r \" , \" n a m e \" : \" g w e n d o l y n y a t e s w h i t t l e \" } , { \" c r e d i t _ i d \" : \" 5 4 4 9 1 d c 1 0 e 0 a 2 6 7 4 8 6 0 0 1 b c e \" , \" d e p a r t m e n t \" : \" s o u n d \" , \" g e n d e r \" : 0 , \" i d \" : 1 3 7 6 9 0 3 , \" j o b \" : \" s o u n d r e - r e c o r d i n g m i x e r \" , \" n a m e \" : \" w i l l i a m s t e i n \" } , { \" c r e d i t _ i d \" : \" 5 4 4 9 1 f 5 0 0 e 0 a 2 6 7 4 7 c 0 0 1 c 0 7 \" , \" d e p a r t m e n t \" : \" c r e w \" , \" g e n d e r \" : 0 , \" i d \" : 1 3 7 6 9 0 9 , \" j o b \" : \" c h o r e o g r a p h e r \" , \" n a m e \" : \" l u l a w a s h i n g t o n \" } , { \" c r e d i t _ i d \" : \" 5 4 9 5 9 9 2 3 9 2 5 1 4 1 2 c 4 e 0 0 2 a 2 e \" , \" d e p a r t m e n t \" : \" v i s u a l e f f e c t s \" , \" g e n d e r \" : 0 , \" i d \" : 1 3 9 1 6 9 2 , \" j o b \" : \" v i s u a l e f f e c t s p r o d u c e r \" , \" n a m e \" : \" c h r i s d e l c o n t e \" } , { \" c r e d i t _ i d \" : \" 5 4 9 5 9 d 5 4 c 3 a 3 6 8 3 1 b 8 0 0 1 d 9 a \" , \" d e p a r t m e n t \" : \" v i s u a l e f f e c t s \" , \" g e n d e r \" : 2 , \" i d \" : 1 3 9 1 6 9 5 , \" j o b \" : \" v i s u a l e f f e c t s s u p e r v i s o r \" , \" n a m e \" : \" r . c h r i s t o p h e r w h i t e \" } , { \" c r e d i t _ i d \" : \" 5 4 9 5 9 b d f 9 2 5 1 4 1 2 c 4 e 0 0 2 a 6 6 \" , \" d e p a r t m e n t \" : \" v i s u a l e f f e c t s \" , \" g e n d e r \" : 0 , \" i d \" : 1 3 9 4 0 7 0 , \" j o b \" : \" v i s u a l e f f e c t s s u p e r v i s o r \" , \" n a m e \" : \" d a n l e m m o n \" } , { \" c r e d i t _ i d \" : \" 5 4 9 5 9 7 1 d 9 2 5 1 4 1 3 2 e d 0 0 2 9 2 2 \" , \" d e p a r t m e n t \" : \" s o u n d \" , \" g e n d e r \" : 0 , \" i d \" : 1 3 9 4 1 2 9 , \" j o b \" : \" s o u n d e f f e c t s e d i t o r \" , \" n a m e \" : \" t i m n i e l s e n \" } , { \" c r e d i t _ i d \" : \" 5 5 9 2 b 2 5 7 9 2 5 1 4 1 5 2 c c 0 0 1 1 a a \" , \" d e p a r t m e n t \" : \" c r e w \" , \" g e n d e r \" : 0 , \" i d \" : 1 3 9 4 2 8 6 , \" j o b \" : \" c g s u p e r v i s o r \" , \" n a m e \" : \" m i c h a e l m u l h o l l a n d \" } , { \" c r e d i t _ i d \" : \" 5 4 9 5 9 a 3 2 9 2 5 1 4 1 6 e 2 b 0 0 4 3 5 5 \" , \" d e p a r t m e n t \" : \" c r e w \" , \" g e n d e r \" : 0 , \" i d \" : 1 3 9 4 7 5 0 , \" j o b \" : \" v i s u a l e f f e c t s e d i t o r \" , \" n a m e \" : \" t h o m a s n i t t m a n n \" } , { \" c r e d i t _ i d \" : \" 5 4 9 5 9 d 6 d c 3 a 3 6 8 6 a e 9 0 0 4 4 0 1 \" , \" d e p a r t m e n t \" : \" v i s u a l e f f e c t s \" , \" g e n d e r \" : 0 , \" i d \" : 1 3 9 4 7 5 5 , \" j o b \" : \" v i s u a l e f f e c t s s u p e r v i s o r \" , \" n a m e \" : \" e d s o n w i l l i a m s \" } , { \" c r e d i t _ i d \" : \" 5 4 9 5 a 0 8 f c 3 a 3 6 8 6 a e 3 0 0 4 4 1 c \" , \" d e p a r t m e n t \" : \" e d i t i n g \" , \" g e n d e r \" : 0 , \" i d \" : 1 3 9 4 9 5 3 , \" j o b \" : \" d i g i t a l i n t e r m e d i a t e \" , \" n a m e \" : \" c h r i s t i n e c a r r \" } , { \" c r e d i t _ i d \" : \" 5 5 4 0 2 d 6 5 9 2 5 1 4 1 3 d 6 d 0 0 0 2 4 9 \" , \" d e p a r t m e n t \" : \" v i s u a l e f f e c t s \" , \" g e n d e r \" : 0 , \" i d \" : 1 3 9 5 2 6 9 , \" j o b \" : \" v i s u a l e f f e c t s s u p e r v i s o r \" , \" n a m e \" : \" j o h n b r u n o \" } , { \" c r e d i t _ i d \" : \" 5 4 9 5 9 e 7 b 9 2 5 1 4 1 6 e 1 e 0 0 3 f 3 e \" , \" d e p a r t m e n t \" : \" c a m e r a \" , \" g e n d e r \" : 0 , \" i d \" : 1 3 9 8 9 7 0 , \" j o b \" : \" s t e a d i c a m o p e r a t o r \" , \" n a m e \" : \" d a v i d e m m e r i c h s \" } , { \" c r e d i t _ i d \" : \" 5 4 9 5 9 7 3 4 c 3 a 3 6 8 6 a e 1 0 0 4 5 e 0 \" , \" d e p a r t m e n t \" : \" s o u n d \" , \" g e n d e r \" : 0 , \" i d \" : 1 4 0 0 9 0 6 , \" j o b \" : \" s o u n d e f f e c t s e d i t o r \" , \" n a m e \" : \" c h r i s t o p h e r s c a r a b o s i o \" } , { \" c r e d i t _ i d \" : \" 5 4 9 5 9 5 d d 9 2 5 1 4 1 3 0 f c 0 0 2 d 7 9 \" , \" d e p a r t m e n t \" : \" p r o d u c t i o n \" , \" g e n d e r \" : 0 , \" i d \" : 1 4 0 1 7 8 4 , \" j o b \" : \" p r o d u c t i o n s u p e r v i s o r \" , \" n a m e \" : \" j e n n i f e r t e v e s \" } , { \" c r e d i t _ i d \" : \" 5 4 9 5 9 6 0 0 9 2 5 1 4 1 3 a f 7 0 0 2 8 c c \" , \" d e p a r t m e n t \" : \" p r o d u c t i o n \" , \" g e n d e r \" : 0 , \" i d \" : 1 4 0 1 7 8 5 , \" j o b \" : \" p r o d u c t i o n m a n a g e r \" , \" n a m e \" : \" b r i g i t t e y o r k e \" } , { \" c r e d i t _ i d \" : \" 5 4 9 5 9 6 e 8 9 2 5 1 4 1 3 0 f c 0 0 2 d 9 9 \" , \" d e p a r t m e n t \" : \" s o u n d \" , \" g e n d e r \" : 0 , \" i d \" : 1 4 0 1 7 8 6 , \" j o b \" : \" s o u n d e f f e c t s e d i t o r \" , \" n a m e \" : \" k e n f i s c h e r \" } , { \" c r e d i t _ i d \" : \" 5 4 9 5 9 8 2 2 9 2 5 1 4 1 2 c 4 e 0 0 2 a 1 c \" , \" d e p a r t m e n t \" : \" c r e w \" , \" g e n d e r \" : 0 , \" i d \" : 1 4 0 1 7 8 7 , \" j o b \" : \" s p e c i a l e f f e c t s c o o r d i n a t o r \" , \" n a m e \" : \" i a i n h u t t o n \" } , { \" c r e d i t _ i d \" : \" 5 4 9 5 9 8 3 4 9 2 5 1 4 1 6 e 2 b 0 0 4 3 2 b \" , \" d e p a r t m e n t \" : \" c r e w \" , \" g e n d e r \" : 0 , \" i d \" : 1 4 0 1 7 8 8 , \" j o b \" : \" s p e c i a l e f f e c t s c o o r d i n a t o r \" , \" n a m e \" : \" s t e v e i n g r a m \" } , { \" c r e d i t _ i d \" : \" 5 4 9 5 9 9 0 5 c 3 a 3 6 8 6 a e 3 0 0 4 3 2 4 \" , \" d e p a r t m e n t \" : \" v i s u a l e f f e c t s \" , \" g e n d e r \" : 0 , \" i d \" : 1 4 0 1 7 8 9 , \" j o b \" : \" v i s u a l e f f e c t s p r o d u c e r \" , \" n a m e \" : \" j o y c e c o x \" } , { \" c r e d i t _ i d \" : \" 5 4 9 5 9 9 4 b 9 2 5 1 4 1 3 2 e d 0 0 2 9 5 1 \" , \" d e p a r t m e n t \" : \" v i s u a l e f f e c t s \" , \" g e n d e r \" : 0 , \" i d \" : 1 4 0 1 7 9 0 , \" j o b \" : \" v i s u a l e f f e c t s p r o d u c e r \" , \" n a m e \" : \" j e n n y f o s t e r \" } , { \" c r e d i t _ i d \" : \" 5 4 9 5 9 9 c b c 3 a 3 6 8 6 a e 1 0 0 4 6 1 3 \" , \" d e p a r t m e n t \" : \" c r e w \" , \" g e n d e r \" : 0 , \" i d \" : 1 4 0 1 7 9 1 , \" j o b \" : \" v i s u a l e f f e c t s e d i t o r \" , \" n a m e \" : \" c h r i s t o p h e r m a r i n o \" } , { \" c r e d i t _ i d \" : \" 5 4 9 5 9 9 f 2 c 3 a 3 6 8 6 a e 1 0 0 4 6 1 e \" , \" d e p a r t m e n t \" : \" c r e w \" , \" g e n d e r \" : 0 , \" i d \" : 1 4 0 1 7 9 2 , \" j o b \" : \" v i s u a l e f f e c t s e d i t o r \" , \" n a m e \" : \" j i m m i l t o n \" } , { \" c r e d i t _ i d \" : \" 5 4 9 5 9 a 5 1 c 3 a 3 6 8 6 a f 3 0 0 3 e b 5 \" , \" d e p a r t m e n t \" : \" v i s u a l e f f e c t s \" , \" g e n d e r \" : 0 , \" i d \" : 1 4 0 1 7 9 3 , \" j o b \" : \" v i s u a l e f f e c t s p r o d u c e r \" , \" n a m e \" : \" c y n d i o c h s \" } , { \" c r e d i t _ i d \" : \" 5 4 9 5 9 a 7 c c 3 a 3 6 8 1 1 5 3 0 0 2 6 f 4 \" , \" d e p a r t m e n t \" : \" c r e w \" , \" g e n d e r \" : 0 , \" i d \" : 1 4 0 1 7 9 4 , \" j o b \" : \" v i s u a l e f f e c t s e d i t o r \" , \" n a m e \" : \" l u c a s p u t n a m \" } , { \" c r e d i t _ i d \" : \" 5 4 9 5 9 b 9 1 c 3 a 3 6 8 0 f f 5 0 0 2 c b 4 \" , \" d e p a r t m e n t \" : \" v i s u a l e f f e c t s \" , \" g e n d e r \" : 0 , \" i d \" : 1 4 0 1 7 9 5 , \" j o b \" : \" v i s u a l e f f e c t s s u p e r v i s o r \" , \" n a m e \" : \" a n t h o n y \\' m a x \\' i v i n s \" } , { \" c r e d i t _ i d \" : \" 5 4 9 5 9 b b 6 9 2 5 1 4 1 2 c 4 e 0 0 2 a 5 f \" , \" d e p a r t m e n t \" : \" v i s u a l e f f e c t s \" , \" g e n d e r \" : 0 , \" i d \" : 1 4 0 1 7 9 6 , \" j o b \" : \" v i s u a l e f f e c t s s u p e r v i s o r \" , \" n a m e \" : \" j o h n k n o l l \" } , { \" c r e d i t _ i d \" : \" 5 4 9 5 9 c b b c 3 a 3 6 8 6 a e 3 0 0 4 3 9 1 \" , \" d e p a r t m e n t \" : \" v i s u a l e f f e c t s \" , \" g e n d e r \" : 2 , \" i d \" : 1 4 0 1 7 9 9 , \" j o b \" : \" v i s u a l e f f e c t s s u p e r v i s o r \" , \" n a m e \" : \" e r i c s a i n d o n \" } , { \" c r e d i t _ i d \" : \" 5 4 9 5 9 d 0 6 c 3 a 3 6 8 6 a e 9 0 0 4 3 f 6 \" , \" d e p a r t m e n t \" : \" v i s u a l e f f e c t s \" , \" g e n d e r \" : 0 , \" i d \" : 1 4 0 1 8 0 0 , \" j o b \" : \" v i s u a l e f f e c t s s u p e r v i s o r \" , \" n a m e \" : \" w a y n e s t a b l e s \" } , { \" c r e d i t _ i d \" : \" 5 4 9 5 9 d 2 5 9 2 5 1 4 1 6 e 1 e 0 0 3 f 1 1 \" , \" d e p a r t m e n t \" : \" v i s u a l e f f e c t s \" , \" g e n d e r \" : 0 , \" i d \" : 1 4 0 1 8 0 1 , \" j o b \" : \" v i s u a l e f f e c t s s u p e r v i s o r \" , \" n a m e \" : \" d a v i d s t i n n e t t \" } , { \" c r e d i t _ i d \" : \" 5 4 9 5 9 d b 4 9 2 5 1 4 1 3 a f 7 0 0 2 9 7 5 \" , \" d e p a r t m e n t \" : \" v i s u a l e f f e c t s \" , \" g e n d e r \" : 0 , \" i d \" : 1 4 0 1 8 0 3 , \" j o b \" : \" v i s u a l e f f e c t s s u p e r v i s o r \" , \" n a m e \" : \" g u y w i l l i a m s \" } , { \" c r e d i t _ i d \" : \" 5 4 9 5 9 d e 4 c 3 a 3 6 8 1 1 5 3 0 0 2 7 5 0 \" , \" d e p a r t m e n t \" : \" c r e w \" , \" g e n d e r \" : 0 , \" i d \" : 1 4 0 1 8 0 4 , \" j o b \" : \" s t u n t c o o r d i n a t o r \" , \" n a m e \" : \" s t u a r t t h o r p \" } , { \" c r e d i t _ i d \" : \" 5 4 9 5 9 e f 2 c 3 a 3 6 8 0 f c 6 0 0 2 7 f 2 \" , \" d e p a r t m e n t \" : \" l i g h t i n g \" , \" g e n d e r \" : 0 , \" i d \" : 1 4 0 1 8 0 5 , \" j o b \" : \" b e s t b o y e l e c t r i c \" , \" n a m e \" : \" g i l e s c o b u r n \" } , { \" c r e d i t _ i d \" : \" 5 4 9 5 9 f 0 7 c 3 a 3 6 8 0 f c 6 0 0 2 7 f 9 \" , \" d e p a r t m e n t \" : \" c a m e r a \" , \" g e n d e r \" : 2 , \" i d \" : 1 4 0 1 8 0 6 , \" j o b \" : \" s t i l l p h o t o g r a p h e r \" , \" n a m e \" : \" m a r k f e l l m a n \" } , { \" c r e d i t _ i d \" : \" 5 4 9 5 9 f 4 7 c 3 a 3 6 8 1 1 5 3 0 0 2 7 7 4 \" , \" d e p a r t m e n t \" : \" l i g h t i n g \" , \" g e n d e r \" : 0 , \" i d \" : 1 4 0 1 8 0 7 , \" j o b \" : \" l i g h t i n g t e c h n i c i a n \" , \" n a m e \" : \" s c o t t s p r a g u e \" } , { \" c r e d i t _ i d \" : \" 5 4 9 5 9 f 8 c c 3 a 3 6 8 3 1 b 8 0 0 1 d f 2 \" , \" d e p a r t m e n t \" : \" v i s u a l e f f e c t s \" , \" g e n d e r \" : 0 , \" i d \" : 1 4 0 1 8 0 8 , \" j o b \" : \" a n i m a t i o n d i r e c t o r \" , \" n a m e \" : \" j e r e m y h o l l o b o n \" } , { \" c r e d i t _ i d \" : \" 5 4 9 5 9 f a 0 c 3 a 3 6 8 3 1 b 8 0 0 1 d f b \" , \" d e p a r t m e n t \" : \" v i s u a l e f f e c t s \" , \" g e n d e r \" : 0 , \" i d \" : 1 4 0 1 8 0 9 , \" j o b \" : \" a n i m a t i o n d i r e c t o r \" , \" n a m e \" : \" o r l a n d o m e u n i e r \" } , { \" c r e d i t _ i d \" : \" 5 4 9 5 9 f b 6 c 3 a 3 6 8 6 a f 3 0 0 3 f 5 4 \" , \" d e p a r t m e n t \" : \" v i s u a l e f f e c t s \" , \" g e n d e r \" : 0 , \" i d \" : 1 4 0 1 8 1 0 , \" j o b \" : \" a n i m a t i o n d i r e c t o r \" , \" n a m e \" : \" t a i s u k e t a n i m u r a \" } , { \" c r e d i t _ i d \" : \" 5 4 9 5 9 f d 2 c 3 a 3 6 8 3 1 b 8 0 0 1 e 0 2 \" , \" d e p a r t m e n t \" : \" c o s t u m e & m a k e - u p \" , \" g e n d e r \" : 0 , \" i d \" : 1 4 0 1 8 1 2 , \" j o b \" : \" s e t c o s t u m e r \" , \" n a m e \" : \" l i l i a m i s h e l a c e v e d o \" } , { \" c r e d i t _ i d \" : \" 5 4 9 5 9 f f 9 c 3 a 3 6 8 6 a e 3 0 0 4 4 0 c \" , \" d e p a r t m e n t \" : \" c o s t u m e & m a k e - u p \" , \" g e n d e r \" : 0 , \" i d \" : 1 4 0 1 8 1 4 , \" j o b \" : \" s e t c o s t u m e r \" , \" n a m e \" : \" a l e j a n d r o m . h e r n a n d e z \" } , { \" c r e d i t _ i d \" : \" 5 4 9 5 a 0 d d c 3 a 3 6 8 6 a e 1 0 0 4 6 f e \" , \" d e p a r t m e n t \" : \" e d i t i n g \" , \" g e n d e r \" : 0 , \" i d \" : 1 4 0 1 8 1 5 , \" j o b \" : \" d i g i t a l i n t e r m e d i a t e \" , \" n a m e \" : \" m a r v i n h a l l \" } , { \" c r e d i t _ i d \" : \" 5 4 9 5 a 1 f 7 c 3 a 3 6 8 6 a e 3 0 0 4 4 4 3 \" , \" d e p a r t m e n t \" : \" p r o d u c t i o n \" , \" g e n d e r \" : 0 , \" i d \" : 1 4 0 1 8 1 6 , \" j o b \" : \" p u b l i c i s t \" , \" n a m e \" : \" j u d y a l l e y \" } , { \" c r e d i t _ i d \" : \" 5 5 9 2 b 2 9 f c 3 a 3 6 8 6 9 d 1 0 0 0 0 2 f \" , \" d e p a r t m e n t \" : \" c r e w \" , \" g e n d e r \" : 0 , \" i d \" : 1 4 1 8 3 8 1 , \" j o b \" : \" c g s u p e r v i s o r \" , \" n a m e \" : \" m i k e p e r r y \" } , { \" c r e d i t _ i d \" : \" 5 5 9 2 b 2 3 a 9 2 5 1 4 1 5 d f 8 0 0 1 0 8 1 \" , \" d e p a r t m e n t \" : \" c r e w \" , \" g e n d e r \" : 0 , \" i d \" : 1 4 2 6 8 5 4 , \" j o b \" : \" c g s u p e r v i s o r \" , \" n a m e \" : \" a n d r e w m o r l e y \" } , { \" c r e d i t _ i d \" : \" 5 5 4 9 1 e 1 1 9 2 5 1 4 1 0 4 c 4 0 0 0 2 d 8 \" , \" d e p a r t m e n t \" : \" a r t \" , \" g e n d e r \" : 0 , \" i d \" : 1 4 3 8 9 0 1 , \" j o b \" : \" c o n c e p t u a l d e s i g n \" , \" n a m e \" : \" s e t h e n g s t r o m \" } , { \" c r e d i t _ i d \" : \" 5 5 2 5 d 5 8 0 9 2 5 1 4 1 7 2 7 6 0 0 2 b 0 6 \" , \" d e p a r t m e n t \" : \" c r e w \" , \" g e n d e r \" : 0 , \" i d \" : 1 4 4 7 3 6 2 , \" j o b \" : \" v i s u a l e f f e c t s a r t d i r e c t o r \" , \" n a m e \" : \" e r i c o l i v e r \" } , { \" c r e d i t _ i d \" : \" 5 5 4 4 2 7 c a 9 2 5 1 4 1 5 8 6 5 0 0 3 1 2 a \" , \" d e p a r t m e n t \" : \" v i s u a l e f f e c t s \" , \" g e n d e r \" : 0 , \" i d \" : 1 4 4 7 5 0 3 , \" j o b \" : \" m o d e l i n g \" , \" n a m e \" : \" m a t s u n e s u z u k i \" } , { \" c r e d i t _ i d \" : \" 5 5 1 9 0 6 8 8 9 2 5 1 4 1 5 a a b 0 0 1 c 8 8 \" , \" d e p a r t m e n t \" : \" a r t \" , \" g e n d e r \" : 0 , \" i d \" : 1 4 4 7 5 2 4 , \" j o b \" : \" a r t d e p a r t m e n t m a n a g e r \" , \" n a m e \" : \" p a u l t o b i n \" } , { \" c r e d i t _ i d \" : \" 5 5 9 2 a f 8 4 9 2 5 1 4 1 5 2 c c 0 0 1 0 d e \" , \" d e p a r t m e n t \" : \" c o s t u m e & m a k e - u p \" , \" g e n d e r \" : 0 , \" i d \" : 1 4 5 2 6 4 3 , \" j o b \" : \" h a i r s t y l i s t \" , \" n a m e \" : \" r o x a n e g r i f f i n \" } , { \" c r e d i t _ i d \" : \" 5 5 3 d 3 c 1 0 9 2 5 1 4 1 5 8 5 2 0 0 1 3 1 8 \" , \" d e p a r t m e n t \" : \" l i g h t i n g \" , \" g e n d e r \" : 0 , \" i d \" : 1 4 5 3 9 3 8 , \" j o b \" : \" l i g h t i n g a r t i s t \" , \" n a m e \" : \" a r u n r a m - m o h a n \" } , { \" c r e d i t _ i d \" : \" 5 5 9 2 a f 4 6 9 2 5 1 4 1 5 2 d 5 0 0 1 3 5 5 \" , \" d e p a r t m e n t \" : \" c o s t u m e & m a k e - u p \" , \" g e n d e r \" : 0 , \" i d \" : 1 4 5 7 3 0 5 , \" j o b \" : \" m a k e u p a r t i s t \" , \" n a m e \" : \" g e o r g i a l o c k h a r t - a d a m s \" } , { \" c r e d i t _ i d \" : \" 5 5 9 2 b 2 e a c 3 a 3 6 8 7 7 4 7 0 0 1 2 a 5 \" , \" d e p a r t m e n t \" : \" c r e w \" , \" g e n d e r \" : 0 , \" i d \" : 1 4 6 6 0 3 5 , \" j o b \" : \" c g s u p e r v i s o r \" , \" n a m e \" : \" t h r a i n s h a d b o l t \" } , { \" c r e d i t _ i d \" : \" 5 5 9 2 b 0 3 2 c 3 a 3 6 8 7 7 4 5 0 0 1 5 f 1 \" , \" d e p a r t m e n t \" : \" c r e w \" , \" g e n d e r \" : 0 , \" i d \" : 1 4 8 3 2 2 0 , \" j o b \" : \" c g s u p e r v i s o r \" , \" n a m e \" : \" b r a d a l e x a n d e r \" } , { \" c r e d i t _ i d \" : \" 5 5 9 2 b 0 5 5 9 2 5 1 4 1 5 2 d 8 0 0 1 2 f 6 \" , \" d e p a r t m e n t \" : \" c r e w \" , \" g e n d e r \" : 0 , \" i d \" : 1 4 8 3 2 2 1 , \" j o b \" : \" c g s u p e r v i s o r \" , \" n a m e \" : \" s h a d i a l m a s s i z a d e h \" } , { \" c r e d i t _ i d \" : \" 5 5 9 2 b 0 9 0 c 3 a 3 6 8 7 7 5 7 0 0 1 0 b 5 \" , \" d e p a r t m e n t \" : \" c r e w \" , \" g e n d e r \" : 0 , \" i d \" : 1 4 8 3 2 2 2 , \" j o b \" : \" c g s u p e r v i s o r \" , \" n a m e \" : \" s i m o n c l u t t e r b u c k \" } , { \" c r e d i t _ i d \" : \" 5 5 9 2 b 0 d b c 3 a 3 6 8 7 7 4 b 0 0 1 1 2 c \" , \" d e p a r t m e n t \" : \" c r e w \" , \" g e n d e r \" : 0 , \" i d \" : 1 4 8 3 2 2 3 , \" j o b \" : \" c g s u p e r v i s o r \" , \" n a m e \" : \" g r a e m e d e m m o c k s \" } , { \" c r e d i t _ i d \" : \" 5 5 9 2 b 0 f e 9 2 5 1 4 1 5 2 d b 0 0 1 0 c 1 \" , \" d e p a r t m e n t \" : \" c r e w \" , \" g e n d e r \" : 0 , \" i d \" : 1 4 8 3 2 2 4 , \" j o b \" : \" c g s u p e r v i s o r \" , \" n a m e \" : \" a d r i a n f e r n a n d e s \" } , { \" c r e d i t _ i d \" : \" 5 5 9 2 b 1 1 f 9 2 5 1 4 1 5 d f 8 0 0 1 0 5 9 \" , \" d e p a r t m e n t \" : \" c r e w \" , \" g e n d e r \" : 0 , \" i d \" : 1 4 8 3 2 2 5 , \" j o b \" : \" c g s u p e r v i s o r \" , \" n a m e \" : \" m i t c h g a t e s \" } , { \" c r e d i t _ i d \" : \" 5 5 9 2 b 1 5 d c 3 a 3 6 8 7 7 4 5 0 0 1 6 4 5 \" , \" d e p a r t m e n t \" : \" c r e w \" , \" g e n d e r \" : 0 , \" i d \" : 1 4 8 3 2 2 6 , \" j o b \" : \" c g s u p e r v i s o r \" , \" n a m e \" : \" j e r r y k u n g \" } , { \" c r e d i t _ i d \" : \" 5 5 9 2 b 1 8 e 9 2 5 1 4 1 6 4 5 a 0 0 0 4 a e \" , \" d e p a r t m e n t \" : \" c r e w \" , \" g e n d e r \" : 0 , \" i d \" : 1 4 8 3 2 2 7 , \" j o b \" : \" c g s u p e r v i s o r \" , \" n a m e \" : \" a n d y l o m a s \" } , { \" c r e d i t _ i d \" : \" 5 5 9 2 b 1 b f c 3 a 3 6 8 7 7 5 d 0 0 1 0 e 7 \" , \" d e p a r t m e n t \" : \" c r e w \" , \" g e n d e r \" : 0 , \" i d \" : 1 4 8 3 2 2 8 , \" j o b \" : \" c g s u p e r v i s o r \" , \" n a m e \" : \" s e b a s t i a n m a r i n o \" } , { \" c r e d i t _ i d \" : \" 5 5 9 2 b 2 0 4 9 2 5 1 4 1 5 d f 8 0 0 1 0 7 8 \" , \" d e p a r t m e n t \" : \" c r e w \" , \" g e n d e r \" : 0 , \" i d \" : 1 4 8 3 2 2 9 , \" j o b \" : \" c g s u p e r v i s o r \" , \" n a m e \" : \" m a t t h i a s m e n z \" } , { \" c r e d i t _ i d \" : \" 5 5 9 2 b 2 7 b 9 2 5 1 4 1 5 2 d 8 0 0 1 3 6 a \" , \" d e p a r t m e n t \" : \" c r e w \" , \" g e n d e r \" : 0 , \" i d \" : 1 4 8 3 2 3 0 , \" j o b \" : \" c g s u p e r v i s o r \" , \" n a m e \" : \" s e r g e i n e v s h u p o v \" } , { \" c r e d i t _ i d \" : \" 5 5 9 2 b 2 c 3 c 3 a 3 6 8 6 9 e 8 0 0 0 0 3 c \" , \" d e p a r t m e n t \" : \" c r e w \" , \" g e n d e r \" : 0 , \" i d \" : 1 4 8 3 2 3 1 , \" j o b \" : \" c g s u p e r v i s o r \" , \" n a m e \" : \" p h i l i p p e r e b o u r s \" } , { \" c r e d i t _ i d \" : \" 5 5 9 2 b 3 1 7 c 3 a 3 6 8 7 7 4 7 0 0 1 2 a f \" , \" d e p a r t m e n t \" : \" c r e w \" , \" g e n d e r \" : 0 , \" i d \" : 1 4 8 3 2 3 2 , \" j o b \" : \" c g s u p e r v i s o r \" , \" n a m e \" : \" m i c h a e l t a k a r a n g i \" } , { \" c r e d i t _ i d \" : \" 5 5 9 2 b 3 4 5 c 3 a 3 6 8 7 7 4 7 0 0 1 2 b b \" , \" d e p a r t m e n t \" : \" c r e w \" , \" g e n d e r \" : 0 , \" i d \" : 1 4 8 3 2 3 3 , \" j o b \" : \" c g s u p e r v i s o r \" , \" n a m e \" : \" d a v i d w e i t z b e r g \" } , { \" c r e d i t _ i d \" : \" 5 5 9 2 b 3 7 c c 3 a 3 6 8 7 7 5 1 0 0 1 1 3 b \" , \" d e p a r t m e n t \" : \" c r e w \" , \" g e n d e r \" : 0 , \" i d \" : 1 4 8 3 2 3 4 , \" j o b \" : \" c g s u p e r v i s o r \" , \" n a m e \" : \" b e n w h i t e \" } , { \" c r e d i t _ i d \" : \" 5 7 3 c 8 e 2 f 9 2 5 1 4 1 3 f 5 d 0 0 0 0 9 4 \" , \" d e p a r t m e n t \" : \" c r e w \" , \" g e n d e r \" : 1 , \" i d \" : 1 6 2 1 9 3 2 , \" j o b \" : \" s t u n t s \" , \" n a m e \" : \" m i n w i n d l e \" } ]'"
      ]
     },
     "execution_count": 43,
     "metadata": {},
     "output_type": "execute_result"
    }
   ],
   "source": [
    "new_df['tags'][0]"
   ]
  },
  {
   "cell_type": "code",
   "execution_count": 44,
   "id": "22e086a6-bad3-43b5-8f48-a19d094dcd57",
   "metadata": {},
   "outputs": [
    {
     "data": {
      "text/plain": [
       "0       in the 22nd century, a parapleg marin is dispa...\n",
       "1       captain barbossa, long believ to be dead, ha c...\n",
       "2       a cryptic messag from bond’ past send him on a...\n",
       "3       follow the death of district attorney harvey d...\n",
       "4       john carter is a war-weary, former militari ca...\n",
       "                              ...                        \n",
       "4804    el mariachi just want to play hi guitar and ca...\n",
       "4805    a newlyw couple' honeymoon is upend by the arr...\n",
       "4806    \"signed, sealed, delivered\" introduc a dedic q...\n",
       "4807    when ambiti new york attorney sam is sent to s...\n",
       "4808    ever sinc the second grade when he first saw h...\n",
       "Name: tags, Length: 4806, dtype: object"
      ]
     },
     "execution_count": 44,
     "metadata": {},
     "output_type": "execute_result"
    }
   ],
   "source": [
    " new_df['tags'].apply(lambda x:x.lower())"
   ]
  },
  {
   "cell_type": "code",
   "execution_count": 45,
   "id": "0185196b-590e-4701-9e6e-fbab814779a2",
   "metadata": {},
   "outputs": [
    {
     "data": {
      "text/html": [
       "<div>\n",
       "<style scoped>\n",
       "    .dataframe tbody tr th:only-of-type {\n",
       "        vertical-align: middle;\n",
       "    }\n",
       "\n",
       "    .dataframe tbody tr th {\n",
       "        vertical-align: top;\n",
       "    }\n",
       "\n",
       "    .dataframe thead th {\n",
       "        text-align: right;\n",
       "    }\n",
       "</style>\n",
       "<table border=\"1\" class=\"dataframe\">\n",
       "  <thead>\n",
       "    <tr style=\"text-align: right;\">\n",
       "      <th></th>\n",
       "      <th>movie_id</th>\n",
       "      <th>title</th>\n",
       "      <th>tags</th>\n",
       "    </tr>\n",
       "  </thead>\n",
       "  <tbody>\n",
       "    <tr>\n",
       "      <th>0</th>\n",
       "      <td>19995</td>\n",
       "      <td>Avatar</td>\n",
       "      <td>in the 22nd century, a parapleg marin is dispa...</td>\n",
       "    </tr>\n",
       "    <tr>\n",
       "      <th>1</th>\n",
       "      <td>285</td>\n",
       "      <td>Pirates of the Caribbean: At World's End</td>\n",
       "      <td>captain barbossa, long believ to be dead, ha c...</td>\n",
       "    </tr>\n",
       "    <tr>\n",
       "      <th>2</th>\n",
       "      <td>206647</td>\n",
       "      <td>Spectre</td>\n",
       "      <td>a cryptic messag from bond’ past send him on a...</td>\n",
       "    </tr>\n",
       "    <tr>\n",
       "      <th>3</th>\n",
       "      <td>49026</td>\n",
       "      <td>The Dark Knight Rises</td>\n",
       "      <td>follow the death of district attorney harvey d...</td>\n",
       "    </tr>\n",
       "    <tr>\n",
       "      <th>4</th>\n",
       "      <td>49529</td>\n",
       "      <td>John Carter</td>\n",
       "      <td>john carter is a war-weary, former militari ca...</td>\n",
       "    </tr>\n",
       "  </tbody>\n",
       "</table>\n",
       "</div>"
      ],
      "text/plain": [
       "   movie_id                                     title  \\\n",
       "0     19995                                    Avatar   \n",
       "1       285  Pirates of the Caribbean: At World's End   \n",
       "2    206647                                   Spectre   \n",
       "3     49026                     The Dark Knight Rises   \n",
       "4     49529                               John Carter   \n",
       "\n",
       "                                                tags  \n",
       "0  in the 22nd century, a parapleg marin is dispa...  \n",
       "1  captain barbossa, long believ to be dead, ha c...  \n",
       "2  a cryptic messag from bond’ past send him on a...  \n",
       "3  follow the death of district attorney harvey d...  \n",
       "4  john carter is a war-weary, former militari ca...  "
      ]
     },
     "execution_count": 45,
     "metadata": {},
     "output_type": "execute_result"
    }
   ],
   "source": [
    "new_df.head()"
   ]
  },
  {
   "cell_type": "code",
   "execution_count": 46,
   "id": "2f759943-f4cd-4ce1-adb4-464436c9edaf",
   "metadata": {},
   "outputs": [],
   "source": [
    "from sklearn.feature_extraction.text import CountVectorizer\n",
    "cv=CountVectorizer(max_features=5000,stop_words='english')"
   ]
  },
  {
   "cell_type": "code",
   "execution_count": 47,
   "id": "8f402086-acbf-401b-a2e4-a1795b9e70c2",
   "metadata": {},
   "outputs": [],
   "source": [
    "vectors=cv.fit_transform(new_df['tags']).toarray()"
   ]
  },
  {
   "cell_type": "code",
   "execution_count": 48,
   "id": "5fad024f-cccf-4f0c-8f1c-157dc1bd856a",
   "metadata": {},
   "outputs": [
    {
     "data": {
      "text/plain": [
       "array([0, 0, 0, ..., 0, 0, 0])"
      ]
     },
     "execution_count": 48,
     "metadata": {},
     "output_type": "execute_result"
    }
   ],
   "source": [
    "vectors[0]"
   ]
  },
  {
   "cell_type": "code",
   "execution_count": 49,
   "id": "1b81f68f-2602-44c9-b6e9-1639f4c4b672",
   "metadata": {},
   "outputs": [
    {
     "data": {
      "text/plain": [
       "array(['000', '007', '10', ..., 'zone', 'zoo', 'zooeydeschanel'],\n",
       "      dtype=object)"
      ]
     },
     "execution_count": 49,
     "metadata": {},
     "output_type": "execute_result"
    }
   ],
   "source": [
    "cv.get_feature_names_out()"
   ]
  },
  {
   "cell_type": "code",
   "execution_count": 50,
   "id": "553ce6b3-cf00-4102-a7b3-3d730a39a454",
   "metadata": {},
   "outputs": [
    {
     "data": {
      "text/plain": [
       "'love'"
      ]
     },
     "execution_count": 50,
     "metadata": {},
     "output_type": "execute_result"
    }
   ],
   "source": [
    "ps.stem('loved')\n",
    "ps.stem('loving')\n"
   ]
  },
  {
   "cell_type": "code",
   "execution_count": 51,
   "id": "b83af535-e142-477e-9d1f-925abba2e439",
   "metadata": {},
   "outputs": [
    {
     "data": {
      "text/plain": [
       "'in the 22nd century, a parapleg marin is dispatch to the moon pandora on a uniqu mission, but becom torn between follow order and protect an alien civil'"
      ]
     },
     "execution_count": 51,
     "metadata": {},
     "output_type": "execute_result"
    }
   ],
   "source": [
    "stem('In the 22nd century, a paraplegic Marine is dispatched to the moon Pandora on a unique mission, but becomes torn between following orders and protecting an alien civilization')"
   ]
  },
  {
   "cell_type": "code",
   "execution_count": 52,
   "id": "463faa17-2ce7-483d-af6a-0a0592c80afb",
   "metadata": {},
   "outputs": [],
   "source": [
    "from sklearn.metrics.pairwise import cosine_similarity"
   ]
  },
  {
   "cell_type": "code",
   "execution_count": 53,
   "id": "6d71c48c-07a6-4560-890d-d469f1e67774",
   "metadata": {},
   "outputs": [],
   "source": [
    "similarity=cosine_similarity(vectors)"
   ]
  },
  {
   "cell_type": "code",
   "execution_count": 54,
   "id": "f605ed94-6d83-47a6-85f9-6ff6b5a67260",
   "metadata": {},
   "outputs": [
    {
     "data": {
      "text/plain": [
       "[(3606, 0.24253562503633294),\n",
       " (529, 0.21693045781865622),\n",
       " (3081, 0.2100420126042015),\n",
       " (942, 0.16169041669088863),\n",
       " (1214, 0.1592324388246205)]"
      ]
     },
     "execution_count": 54,
     "metadata": {},
     "output_type": "execute_result"
    }
   ],
   "source": [
    "sorted(list(enumerate(similarity[0])),reverse=True,key=lambda x:x[1])[1:6]"
   ]
  },
  {
   "cell_type": "code",
   "execution_count": 55,
   "id": "bb92bc4c-e038-45b3-bd47-2927f7123e04",
   "metadata": {},
   "outputs": [],
   "source": [
    "def recommend(movie):\n",
    "    movie_index=new_df[new_df['title']==movie].index[0]\n",
    "    distances=similarity[movie_index]\n",
    "    movie_list=sorted(list(enumerate(distances)),reverse=True,key=lambda x:x[1])[1:6]\n",
    "    for i in movie_list:\n",
    "             print(new_df.iloc[i[0]].title)\n",
    "    "
   ]
  },
  {
   "cell_type": "code",
   "execution_count": 56,
   "id": "2d31d9fb-6bf8-4327-97c1-091ab00bda9a",
   "metadata": {},
   "outputs": [
    {
     "name": "stdout",
     "output_type": "stream",
     "text": [
      "Apollo 18\n",
      "Tears of the Sun\n",
      "Bucky Larson: Born to Be a Star\n",
      "The Book of Life\n",
      "Aliens vs Predator: Requiem\n"
     ]
    }
   ],
   "source": [
    "recommend('Avatar')"
   ]
  },
  {
   "cell_type": "code",
   "execution_count": 57,
   "id": "59adaa69-b74c-45ee-9d66-934a5b1c3e2d",
   "metadata": {},
   "outputs": [
    {
     "data": {
      "text/plain": [
       "'Apollo 18'"
      ]
     },
     "execution_count": 57,
     "metadata": {},
     "output_type": "execute_result"
    }
   ],
   "source": [
    "new_df.iloc [3606].title"
   ]
  },
  {
   "cell_type": "code",
   "execution_count": 58,
   "id": "0b101b52-c929-4a4b-bacc-2867307b41bc",
   "metadata": {},
   "outputs": [],
   "source": [
    "import pickle"
   ]
  },
  {
   "cell_type": "code",
   "execution_count": 59,
   "id": "3bb4b559-cf71-4d63-8816-6f152894279c",
   "metadata": {},
   "outputs": [],
   "source": [
    "pickle.dump(new_df,open('movies.pkl','wb'))"
   ]
  },
  {
   "cell_type": "code",
   "execution_count": 60,
   "id": "b30a07db-c3cd-4ae7-b7fd-51da6b4d9e6a",
   "metadata": {},
   "outputs": [],
   "source": [
    "pickle.dump(new_df.to_dict(),open('movies_dict.pkl','wb'))"
   ]
  },
  {
   "cell_type": "code",
   "execution_count": 61,
   "id": "345e5cac-9281-419e-8233-8022a8c30e53",
   "metadata": {},
   "outputs": [],
   "source": [
    "pickle.dump(similarity,open('similarity.pkl','wb'))"
   ]
  }
 ],
 "metadata": {
  "kernelspec": {
   "display_name": "Python 3 (ipykernel)",
   "language": "python",
   "name": "python3"
  },
  "language_info": {
   "codemirror_mode": {
    "name": "ipython",
    "version": 3
   },
   "file_extension": ".py",
   "mimetype": "text/x-python",
   "name": "python",
   "nbconvert_exporter": "python",
   "pygments_lexer": "ipython3",
   "version": "3.12.4"
  }
 },
 "nbformat": 4,
 "nbformat_minor": 5
}
